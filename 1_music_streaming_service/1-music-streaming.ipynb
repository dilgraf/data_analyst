{
 "cells": [
  {
   "cell_type": "markdown",
   "metadata": {
    "id": "E0vqbgi9ay0H"
   },
   "source": [
    "# Music streaming service"
   ]
  },
  {
   "cell_type": "markdown",
   "metadata": {
    "id": "VUC88oWjTJw2"
   },
   "source": [
    "**Research goal** — to check three hypothesis:\n",
    "1. User activity depends on day of the week. This dependency is diffirent in Moscow and St.Petersburg.\n",
    "2. On Monday mornings in Moscow some genres dominate, while in St.Petersburg the others prevail.\n",
    "3. Citizens of Moscow and St.Petersburg prefer different music genres. In Moscow it is usually pop music, in St.Petersburg - russian rap.\n",
    "\n",
    "**Reserach plan**\n",
    "\n",
    " 1. Data review\n",
    " 2. Data pre-processing\n",
    " 3. Hypothesis testing\n",
    "\n"
   ]
  },
  {
   "cell_type": "markdown",
   "metadata": {
    "id": "Ml1hmfXC_Zcs"
   },
   "source": [
    "## Data review\n",
    "\n",
    "\n"
   ]
  },
  {
   "cell_type": "code",
   "execution_count": 7,
   "metadata": {
    "id": "AXN7PHPN_Zcs"
   },
   "outputs": [],
   "source": [
    "# importing pandas library\n",
    "import pandas as pd"
   ]
  },
  {
   "cell_type": "code",
   "execution_count": 8,
   "metadata": {
    "id": "fFVu7vqh_Zct"
   },
   "outputs": [],
   "source": [
    "# reading the file\n",
    "df = pd.read_csv('yandex_music_project.csv')"
   ]
  },
  {
   "cell_type": "code",
   "execution_count": 9,
   "metadata": {
    "id": "oWTVX3gW_Zct"
   },
   "outputs": [
    {
     "data": {
      "text/html": [
       "<div>\n",
       "<style scoped>\n",
       "    .dataframe tbody tr th:only-of-type {\n",
       "        vertical-align: middle;\n",
       "    }\n",
       "\n",
       "    .dataframe tbody tr th {\n",
       "        vertical-align: top;\n",
       "    }\n",
       "\n",
       "    .dataframe thead th {\n",
       "        text-align: right;\n",
       "    }\n",
       "</style>\n",
       "<table border=\"1\" class=\"dataframe\">\n",
       "  <thead>\n",
       "    <tr style=\"text-align: right;\">\n",
       "      <th></th>\n",
       "      <th>userID</th>\n",
       "      <th>Track</th>\n",
       "      <th>artist</th>\n",
       "      <th>genre</th>\n",
       "      <th>City</th>\n",
       "      <th>time</th>\n",
       "      <th>Day</th>\n",
       "    </tr>\n",
       "  </thead>\n",
       "  <tbody>\n",
       "    <tr>\n",
       "      <th>0</th>\n",
       "      <td>FFB692EC</td>\n",
       "      <td>Kamigata To Boots</td>\n",
       "      <td>The Mass Missile</td>\n",
       "      <td>rock</td>\n",
       "      <td>Saint-Petersburg</td>\n",
       "      <td>20:28:33</td>\n",
       "      <td>Wednesday</td>\n",
       "    </tr>\n",
       "    <tr>\n",
       "      <th>1</th>\n",
       "      <td>55204538</td>\n",
       "      <td>Delayed Because of Accident</td>\n",
       "      <td>Andreas Rönnberg</td>\n",
       "      <td>rock</td>\n",
       "      <td>Moscow</td>\n",
       "      <td>14:07:09</td>\n",
       "      <td>Friday</td>\n",
       "    </tr>\n",
       "    <tr>\n",
       "      <th>2</th>\n",
       "      <td>20EC38</td>\n",
       "      <td>Funiculì funiculà</td>\n",
       "      <td>Mario Lanza</td>\n",
       "      <td>pop</td>\n",
       "      <td>Saint-Petersburg</td>\n",
       "      <td>20:58:07</td>\n",
       "      <td>Wednesday</td>\n",
       "    </tr>\n",
       "    <tr>\n",
       "      <th>3</th>\n",
       "      <td>A3DD03C9</td>\n",
       "      <td>Dragons in the Sunset</td>\n",
       "      <td>Fire + Ice</td>\n",
       "      <td>folk</td>\n",
       "      <td>Saint-Petersburg</td>\n",
       "      <td>08:37:09</td>\n",
       "      <td>Monday</td>\n",
       "    </tr>\n",
       "    <tr>\n",
       "      <th>4</th>\n",
       "      <td>E2DC1FAE</td>\n",
       "      <td>Soul People</td>\n",
       "      <td>Space Echo</td>\n",
       "      <td>dance</td>\n",
       "      <td>Moscow</td>\n",
       "      <td>08:34:34</td>\n",
       "      <td>Monday</td>\n",
       "    </tr>\n",
       "    <tr>\n",
       "      <th>5</th>\n",
       "      <td>842029A1</td>\n",
       "      <td>Преданная</td>\n",
       "      <td>IMPERVTOR</td>\n",
       "      <td>rusrap</td>\n",
       "      <td>Saint-Petersburg</td>\n",
       "      <td>13:09:41</td>\n",
       "      <td>Friday</td>\n",
       "    </tr>\n",
       "    <tr>\n",
       "      <th>6</th>\n",
       "      <td>4CB90AA5</td>\n",
       "      <td>True</td>\n",
       "      <td>Roman Messer</td>\n",
       "      <td>dance</td>\n",
       "      <td>Moscow</td>\n",
       "      <td>13:00:07</td>\n",
       "      <td>Wednesday</td>\n",
       "    </tr>\n",
       "    <tr>\n",
       "      <th>7</th>\n",
       "      <td>F03E1C1F</td>\n",
       "      <td>Feeling This Way</td>\n",
       "      <td>Polina Griffith</td>\n",
       "      <td>dance</td>\n",
       "      <td>Moscow</td>\n",
       "      <td>20:47:49</td>\n",
       "      <td>Wednesday</td>\n",
       "    </tr>\n",
       "    <tr>\n",
       "      <th>8</th>\n",
       "      <td>8FA1D3BE</td>\n",
       "      <td>И вновь продолжается бой</td>\n",
       "      <td>NaN</td>\n",
       "      <td>ruspop</td>\n",
       "      <td>Moscow</td>\n",
       "      <td>09:17:40</td>\n",
       "      <td>Friday</td>\n",
       "    </tr>\n",
       "    <tr>\n",
       "      <th>9</th>\n",
       "      <td>E772D5C0</td>\n",
       "      <td>Pessimist</td>\n",
       "      <td>NaN</td>\n",
       "      <td>dance</td>\n",
       "      <td>Saint-Petersburg</td>\n",
       "      <td>21:20:49</td>\n",
       "      <td>Wednesday</td>\n",
       "    </tr>\n",
       "  </tbody>\n",
       "</table>\n",
       "</div>"
      ],
      "text/plain": [
       "     userID                        Track            artist   genre  \\\n",
       "0  FFB692EC            Kamigata To Boots  The Mass Missile    rock   \n",
       "1  55204538  Delayed Because of Accident  Andreas Rönnberg    rock   \n",
       "2    20EC38            Funiculì funiculà       Mario Lanza     pop   \n",
       "3  A3DD03C9        Dragons in the Sunset        Fire + Ice    folk   \n",
       "4  E2DC1FAE                  Soul People        Space Echo   dance   \n",
       "5  842029A1                    Преданная         IMPERVTOR  rusrap   \n",
       "6  4CB90AA5                         True      Roman Messer   dance   \n",
       "7  F03E1C1F             Feeling This Way   Polina Griffith   dance   \n",
       "8  8FA1D3BE     И вновь продолжается бой               NaN  ruspop   \n",
       "9  E772D5C0                    Pessimist               NaN   dance   \n",
       "\n",
       "             City        time        Day  \n",
       "0  Saint-Petersburg  20:28:33  Wednesday  \n",
       "1            Moscow  14:07:09     Friday  \n",
       "2  Saint-Petersburg  20:58:07  Wednesday  \n",
       "3  Saint-Petersburg  08:37:09     Monday  \n",
       "4            Moscow  08:34:34     Monday  \n",
       "5  Saint-Petersburg  13:09:41     Friday  \n",
       "6            Moscow  13:00:07  Wednesday  \n",
       "7            Moscow  20:47:49  Wednesday  \n",
       "8            Moscow  09:17:40     Friday  \n",
       "9  Saint-Petersburg  21:20:49  Wednesday  "
      ]
     },
     "metadata": {},
     "output_type": "display_data"
    }
   ],
   "source": [
    "# displaying first 10 lines from the file\n",
    "display(df.head(10))"
   ]
  },
  {
   "cell_type": "code",
   "execution_count": 10,
   "metadata": {
    "id": "DSf2kIb-_Zct"
   },
   "outputs": [
    {
     "name": "stdout",
     "output_type": "stream",
     "text": [
      "<class 'pandas.core.frame.DataFrame'>\n",
      "RangeIndex: 65079 entries, 0 to 65078\n",
      "Data columns (total 7 columns):\n",
      " #   Column    Non-Null Count  Dtype \n",
      "---  ------    --------------  ----- \n",
      " 0     userID  65079 non-null  object\n",
      " 1   Track     63848 non-null  object\n",
      " 2   artist    57876 non-null  object\n",
      " 3   genre     63881 non-null  object\n",
      " 4     City    65079 non-null  object\n",
      " 5   time      65079 non-null  object\n",
      " 6   Day       65079 non-null  object\n",
      "dtypes: object(7)\n",
      "memory usage: 3.5+ MB\n"
     ]
    }
   ],
   "source": [
    "# receiving overall information about the data in the table\n",
    "df.info()"
   ]
  },
  {
   "cell_type": "markdown",
   "metadata": {
    "id": "TaQ2Iwbr_Zct"
   },
   "source": [
    "There are 7 columns in the table. All columns contain `object` type of data.\n",
    "\n",
    "There are several mistakes in style of column namings:\n",
    "1. Uppercase mixed with lowercase\n",
    "2. Empty spaces\n",
    "3. CamelCase is used instead of snake_case\n",
    "\n",
    "\n",
    "Number of entries differs from column to column which means that there are some missing values.\n"
   ]
  },
  {
   "cell_type": "markdown",
   "metadata": {
    "id": "MCB6-dXG_Zct"
   },
   "source": [
    "**Conclusion**\n",
    "\n",
    "Each line of the table contains information on listened track. Some columns describe the tack (name, artist, genre) and others contain information on the user (city, time of listening).\n",
    "\n",
    "Preliminary we can state that there is enough data for hypothesis check. But there are some missings and the column namings should be corrected."
   ]
  },
  {
   "cell_type": "markdown",
   "metadata": {
    "id": "SjYF6Ub9_Zct"
   },
   "source": [
    "## Data pre-processing"
   ]
  },
  {
   "cell_type": "markdown",
   "metadata": {
    "id": "dIaKXr29_Zct"
   },
   "source": [
    "### Headings style"
   ]
  },
  {
   "cell_type": "code",
   "execution_count": 11,
   "metadata": {
    "id": "oKOTdF_Q_Zct"
   },
   "outputs": [
    {
     "data": {
      "text/plain": [
       "Index(['  userID', 'Track', 'artist', 'genre', '  City  ', 'time', 'Day'], dtype='object')"
      ]
     },
     "execution_count": 11,
     "metadata": {},
     "output_type": "execute_result"
    }
   ],
   "source": [
    "# table df headings\n",
    "df.columns"
   ]
  },
  {
   "cell_type": "markdown",
   "metadata": {
    "id": "zj5534cv_Zct"
   },
   "source": [
    "Columns should be renamed in such way:\n",
    "* `'  userID'` → `'user_id'`;\n",
    "* `'Track'` → `'track'`;\n",
    "* `'  City  '` → `'city'`;\n",
    "* `'Day'` → `'day'`."
   ]
  },
  {
   "cell_type": "code",
   "execution_count": 12,
   "metadata": {
    "id": "ISlFqs5y_Zct"
   },
   "outputs": [],
   "source": [
    "df = df.rename(columns={'  userID': 'user_id', 'Track': 'track', '  City  ': 'city', 'Day': 'day'})"
   ]
  },
  {
   "cell_type": "code",
   "execution_count": 13,
   "metadata": {
    "id": "d4NOAmTW_Zct"
   },
   "outputs": [
    {
     "data": {
      "text/plain": [
       "Index(['user_id', 'track', 'artist', 'genre', 'city', 'time', 'day'], dtype='object')"
      ]
     },
     "execution_count": 13,
     "metadata": {},
     "output_type": "execute_result"
    }
   ],
   "source": [
    "df.columns"
   ]
  },
  {
   "cell_type": "markdown",
   "metadata": {
    "id": "5ISfbcfY_Zct"
   },
   "source": [
    "### Missing values"
   ]
  },
  {
   "cell_type": "code",
   "execution_count": 14,
   "metadata": {
    "id": "RskX29qr_Zct"
   },
   "outputs": [
    {
     "data": {
      "text/plain": [
       "user_id       0\n",
       "track      1231\n",
       "artist     7203\n",
       "genre      1198\n",
       "city          0\n",
       "time          0\n",
       "day           0\n",
       "dtype: int64"
      ]
     },
     "execution_count": 14,
     "metadata": {},
     "output_type": "execute_result"
    }
   ],
   "source": [
    "# counting missing values\n",
    "df.isna().sum()"
   ]
  },
  {
   "cell_type": "markdown",
   "metadata": {
    "id": "qubhgnlO_Zct"
   },
   "source": [
    "Not all of the missing values affect our research. For example, missings in `track` and `artist` do not affect. We can substitute them with some designation.\n",
    "\n",
    "But missings in `genre` would however interfere with comparisson of music preferences in Moscow and St.Petersburg. Since this is a study project we can't determine the reason behind these missing values. \n",
    "* substitute them with some designation,\n",
    "* estimate how they will affect calculations."
   ]
  },
  {
   "cell_type": "code",
   "execution_count": 15,
   "metadata": {
    "id": "KplB5qWs_Zct"
   },
   "outputs": [],
   "source": [
    "# substitution of missing values to 'unknown'\n",
    "columns_to_replace = ['track', 'artist', 'genre']\n",
    "\n",
    "for column in columns_to_replace:\n",
    "    df[column] = df[column].fillna('unknown')"
   ]
  },
  {
   "cell_type": "code",
   "execution_count": 16,
   "metadata": {
    "id": "Tq4nYRX4_Zct"
   },
   "outputs": [
    {
     "name": "stdout",
     "output_type": "stream",
     "text": [
      "user_id    0\n",
      "track      0\n",
      "artist     0\n",
      "genre      0\n",
      "city       0\n",
      "time       0\n",
      "day        0\n",
      "dtype: int64\n"
     ]
    }
   ],
   "source": [
    "# check\n",
    "print(df.isna().sum())"
   ]
  },
  {
   "cell_type": "markdown",
   "metadata": {
    "id": "BWKRtBJ3_Zct"
   },
   "source": [
    "### Duplicates"
   ]
  },
  {
   "cell_type": "code",
   "execution_count": 17,
   "metadata": {
    "id": "36eES_S0_Zct"
   },
   "outputs": [
    {
     "data": {
      "text/plain": [
       "3826"
      ]
     },
     "execution_count": 17,
     "metadata": {},
     "output_type": "execute_result"
    }
   ],
   "source": [
    "# determining number of duplicates\n",
    "df.duplicated().sum()"
   ]
  },
  {
   "cell_type": "code",
   "execution_count": 18,
   "metadata": {
    "id": "exFHq6tt_Zct"
   },
   "outputs": [],
   "source": [
    "# deleting duplicates\n",
    "df = df.drop_duplicates().reset_index(drop=True)"
   ]
  },
  {
   "cell_type": "code",
   "execution_count": 19,
   "metadata": {
    "id": "-8PuNWQ0_Zct"
   },
   "outputs": [
    {
     "data": {
      "text/plain": [
       "0"
      ]
     },
     "execution_count": 19,
     "metadata": {},
     "output_type": "execute_result"
    }
   ],
   "source": [
    "# check\n",
    "df.duplicated().sum()"
   ]
  },
  {
   "cell_type": "markdown",
   "metadata": {
    "id": "QlFBsxAr_Zct"
   },
   "source": [
    "Now we will get rid of implicit duplicates in the `genre` column, for example: the name of the same genre can be written differently."
   ]
  },
  {
   "cell_type": "code",
   "execution_count": 20,
   "metadata": {
    "id": "JIUcqzZN_Zct"
   },
   "outputs": [
    {
     "data": {
      "text/plain": [
       "array(['acid', 'acoustic', 'action', 'adult', 'africa', 'afrikaans',\n",
       "       'alternative', 'alternativepunk', 'ambient', 'americana',\n",
       "       'animated', 'anime', 'arabesk', 'arabic', 'arena',\n",
       "       'argentinetango', 'art', 'audiobook', 'author', 'avantgarde',\n",
       "       'axé', 'baile', 'balkan', 'beats', 'bigroom', 'black', 'bluegrass',\n",
       "       'blues', 'bollywood', 'bossa', 'brazilian', 'breakbeat', 'breaks',\n",
       "       'broadway', 'cantautori', 'cantopop', 'canzone', 'caribbean',\n",
       "       'caucasian', 'celtic', 'chamber', 'chanson', 'children', 'chill',\n",
       "       'chinese', 'choral', 'christian', 'christmas', 'classical',\n",
       "       'classicmetal', 'club', 'colombian', 'comedy', 'conjazz',\n",
       "       'contemporary', 'country', 'cuban', 'dance', 'dancehall',\n",
       "       'dancepop', 'dark', 'death', 'deep', 'deutschrock', 'deutschspr',\n",
       "       'dirty', 'disco', 'dnb', 'documentary', 'downbeat', 'downtempo',\n",
       "       'drum', 'dub', 'dubstep', 'eastern', 'easy', 'electronic',\n",
       "       'electropop', 'emo', 'entehno', 'epicmetal', 'estrada', 'ethnic',\n",
       "       'eurofolk', 'european', 'experimental', 'extrememetal', 'fado',\n",
       "       'fairytail', 'film', 'fitness', 'flamenco', 'folk', 'folklore',\n",
       "       'folkmetal', 'folkrock', 'folktronica', 'forró', 'frankreich',\n",
       "       'französisch', 'french', 'funk', 'future', 'gangsta', 'garage',\n",
       "       'german', 'ghazal', 'gitarre', 'glitch', 'gospel', 'gothic',\n",
       "       'grime', 'grunge', 'gypsy', 'handsup', \"hard'n'heavy\", 'hardcore',\n",
       "       'hardstyle', 'hardtechno', 'hip', 'hip-hop', 'hiphop',\n",
       "       'historisch', 'holiday', 'hop', 'horror', 'house', 'hymn', 'idm',\n",
       "       'independent', 'indian', 'indie', 'indipop', 'industrial',\n",
       "       'inspirational', 'instrumental', 'international', 'irish', 'jam',\n",
       "       'japanese', 'jazz', 'jewish', 'jpop', 'jungle', 'k-pop',\n",
       "       'karadeniz', 'karaoke', 'kayokyoku', 'korean', 'laiko', 'latin',\n",
       "       'latino', 'leftfield', 'local', 'lounge', 'loungeelectronic',\n",
       "       'lovers', 'malaysian', 'mandopop', 'marschmusik', 'meditative',\n",
       "       'mediterranean', 'melodic', 'metal', 'metalcore', 'mexican',\n",
       "       'middle', 'minimal', 'miscellaneous', 'modern', 'mood', 'mpb',\n",
       "       'muslim', 'native', 'neoklassik', 'neue', 'new', 'newage',\n",
       "       'newwave', 'nu', 'nujazz', 'numetal', 'oceania', 'old', 'opera',\n",
       "       'orchestral', 'other', 'piano', 'podcasts', 'pop', 'popdance',\n",
       "       'popelectronic', 'popeurodance', 'poprussian', 'post',\n",
       "       'posthardcore', 'postrock', 'power', 'progmetal', 'progressive',\n",
       "       'psychedelic', 'punjabi', 'punk', 'quebecois', 'ragga', 'ram',\n",
       "       'rancheras', 'rap', 'rave', 'reggae', 'reggaeton', 'regional',\n",
       "       'relax', 'religious', 'retro', 'rhythm', 'rnb', 'rnr', 'rock',\n",
       "       'rockabilly', 'rockalternative', 'rockindie', 'rockother',\n",
       "       'romance', 'roots', 'ruspop', 'rusrap', 'rusrock', 'russian',\n",
       "       'salsa', 'samba', 'scenic', 'schlager', 'self', 'sertanejo',\n",
       "       'shanson', 'shoegazing', 'showtunes', 'singer', 'ska', 'skarock',\n",
       "       'slow', 'smooth', 'soft', 'soul', 'soulful', 'sound', 'soundtrack',\n",
       "       'southern', 'specialty', 'speech', 'spiritual', 'sport',\n",
       "       'stonerrock', 'surf', 'swing', 'synthpop', 'synthrock',\n",
       "       'sängerportrait', 'tango', 'tanzorchester', 'taraftar', 'tatar',\n",
       "       'tech', 'techno', 'teen', 'thrash', 'top', 'traditional',\n",
       "       'tradjazz', 'trance', 'tribal', 'trip', 'triphop', 'tropical',\n",
       "       'türk', 'türkçe', 'ukrrock', 'unknown', 'urban', 'uzbek',\n",
       "       'variété', 'vi', 'videogame', 'vocal', 'western', 'world',\n",
       "       'worldbeat', 'ïîï', 'электроника'], dtype=object)"
      ]
     },
     "execution_count": 20,
     "metadata": {},
     "output_type": "execute_result"
    }
   ],
   "source": [
    "# Displaying unique genre names\n",
    "df['genre'].sort_values().unique()"
   ]
  },
  {
   "cell_type": "code",
   "execution_count": 21,
   "metadata": {
    "id": "ErNDkmns_Zct"
   },
   "outputs": [],
   "source": [
    "# Function for substitution wrong names with correct ones\n",
    "def replace_wrong_genres(wrong_genres, correct_genre):\n",
    "    for wrong_genre in wrong_genres:\n",
    "        df['genre'] = df['genre'].replace(wrong_genre, correct_genre)"
   ]
  },
  {
   "cell_type": "code",
   "execution_count": 22,
   "metadata": {
    "id": "YN5i2hpmSo09"
   },
   "outputs": [],
   "source": [
    "# Example with 'hiphop' genre:\n",
    "# List of wrong names\n",
    "duplicates = ['hip', 'hop', 'hip-hop']\n",
    "\n",
    "#Correct naming\n",
    "correct_name = 'hiphop'\n",
    "\n",
    "replace_wrong_genres(duplicates, correct_name)"
   ]
  },
  {
   "cell_type": "code",
   "execution_count": 23,
   "metadata": {
    "id": "wvixALnFG15m"
   },
   "outputs": [
    {
     "data": {
      "text/plain": [
       "array(['acid', 'acoustic', 'action', 'adult', 'africa', 'afrikaans',\n",
       "       'alternative', 'alternativepunk', 'ambient', 'americana',\n",
       "       'animated', 'anime', 'arabesk', 'arabic', 'arena',\n",
       "       'argentinetango', 'art', 'audiobook', 'author', 'avantgarde',\n",
       "       'axé', 'baile', 'balkan', 'beats', 'bigroom', 'black', 'bluegrass',\n",
       "       'blues', 'bollywood', 'bossa', 'brazilian', 'breakbeat', 'breaks',\n",
       "       'broadway', 'cantautori', 'cantopop', 'canzone', 'caribbean',\n",
       "       'caucasian', 'celtic', 'chamber', 'chanson', 'children', 'chill',\n",
       "       'chinese', 'choral', 'christian', 'christmas', 'classical',\n",
       "       'classicmetal', 'club', 'colombian', 'comedy', 'conjazz',\n",
       "       'contemporary', 'country', 'cuban', 'dance', 'dancehall',\n",
       "       'dancepop', 'dark', 'death', 'deep', 'deutschrock', 'deutschspr',\n",
       "       'dirty', 'disco', 'dnb', 'documentary', 'downbeat', 'downtempo',\n",
       "       'drum', 'dub', 'dubstep', 'eastern', 'easy', 'electronic',\n",
       "       'electropop', 'emo', 'entehno', 'epicmetal', 'estrada', 'ethnic',\n",
       "       'eurofolk', 'european', 'experimental', 'extrememetal', 'fado',\n",
       "       'fairytail', 'film', 'fitness', 'flamenco', 'folk', 'folklore',\n",
       "       'folkmetal', 'folkrock', 'folktronica', 'forró', 'frankreich',\n",
       "       'französisch', 'french', 'funk', 'future', 'gangsta', 'garage',\n",
       "       'german', 'ghazal', 'gitarre', 'glitch', 'gospel', 'gothic',\n",
       "       'grime', 'grunge', 'gypsy', 'handsup', \"hard'n'heavy\", 'hardcore',\n",
       "       'hardstyle', 'hardtechno', 'hiphop', 'historisch', 'holiday',\n",
       "       'horror', 'house', 'hymn', 'idm', 'independent', 'indian', 'indie',\n",
       "       'indipop', 'industrial', 'inspirational', 'instrumental',\n",
       "       'international', 'irish', 'jam', 'japanese', 'jazz', 'jewish',\n",
       "       'jpop', 'jungle', 'k-pop', 'karadeniz', 'karaoke', 'kayokyoku',\n",
       "       'korean', 'laiko', 'latin', 'latino', 'leftfield', 'local',\n",
       "       'lounge', 'loungeelectronic', 'lovers', 'malaysian', 'mandopop',\n",
       "       'marschmusik', 'meditative', 'mediterranean', 'melodic', 'metal',\n",
       "       'metalcore', 'mexican', 'middle', 'minimal', 'miscellaneous',\n",
       "       'modern', 'mood', 'mpb', 'muslim', 'native', 'neoklassik', 'neue',\n",
       "       'new', 'newage', 'newwave', 'nu', 'nujazz', 'numetal', 'oceania',\n",
       "       'old', 'opera', 'orchestral', 'other', 'piano', 'podcasts', 'pop',\n",
       "       'popdance', 'popelectronic', 'popeurodance', 'poprussian', 'post',\n",
       "       'posthardcore', 'postrock', 'power', 'progmetal', 'progressive',\n",
       "       'psychedelic', 'punjabi', 'punk', 'quebecois', 'ragga', 'ram',\n",
       "       'rancheras', 'rap', 'rave', 'reggae', 'reggaeton', 'regional',\n",
       "       'relax', 'religious', 'retro', 'rhythm', 'rnb', 'rnr', 'rock',\n",
       "       'rockabilly', 'rockalternative', 'rockindie', 'rockother',\n",
       "       'romance', 'roots', 'ruspop', 'rusrap', 'rusrock', 'russian',\n",
       "       'salsa', 'samba', 'scenic', 'schlager', 'self', 'sertanejo',\n",
       "       'shanson', 'shoegazing', 'showtunes', 'singer', 'ska', 'skarock',\n",
       "       'slow', 'smooth', 'soft', 'soul', 'soulful', 'sound', 'soundtrack',\n",
       "       'southern', 'specialty', 'speech', 'spiritual', 'sport',\n",
       "       'stonerrock', 'surf', 'swing', 'synthpop', 'synthrock',\n",
       "       'sängerportrait', 'tango', 'tanzorchester', 'taraftar', 'tatar',\n",
       "       'tech', 'techno', 'teen', 'thrash', 'top', 'traditional',\n",
       "       'tradjazz', 'trance', 'tribal', 'trip', 'triphop', 'tropical',\n",
       "       'türk', 'türkçe', 'ukrrock', 'unknown', 'urban', 'uzbek',\n",
       "       'variété', 'vi', 'videogame', 'vocal', 'western', 'world',\n",
       "       'worldbeat', 'ïîï', 'электроника'], dtype=object)"
      ]
     },
     "execution_count": 23,
     "metadata": {},
     "output_type": "execute_result"
    }
   ],
   "source": [
    "# Check\n",
    "df['genre'].sort_values().unique()"
   ]
  },
  {
   "cell_type": "markdown",
   "metadata": {
    "id": "jz6a9-7HQUDd"
   },
   "source": [
    "**Conclusion**\n",
    "\n",
    "Table headers were corrected. Missing values were substituted with `'unknown'`. "
   ]
  },
  {
   "cell_type": "markdown",
   "metadata": {
    "id": "WttZHXH0SqKk"
   },
   "source": [
    "## Hypothesis testing"
   ]
  },
  {
   "cell_type": "markdown",
   "metadata": {
    "id": "Im936VVi_Zcu"
   },
   "source": [
    "### Comparisson of user activity in two cities "
   ]
  },
  {
   "cell_type": "markdown",
   "metadata": {
    "id": "nwt_MuaL_Zcu"
   },
   "source": [
    "To confirm that listening activity between citizens of two cities is different we will check the assumption based on the date from three days: monday, wednesday and friday:\n",
    "\n",
    "* Divide all of the users into two groups based on the city (Moscow and St.Petersburg)\n",
    "* Compare each group: how many tracks each group listened to on monday, wednesday and friday.\n"
   ]
  },
  {
   "cell_type": "code",
   "execution_count": 24,
   "metadata": {
    "id": "0_Qs96oh_Zcu"
   },
   "outputs": [
    {
     "data": {
      "text/plain": [
       "city\n",
       "Moscow              42741\n",
       "Saint-Petersburg    18512\n",
       "Name: track, dtype: int64"
      ]
     },
     "metadata": {},
     "output_type": "display_data"
    }
   ],
   "source": [
    "# Total amount of tracks per city\n",
    "df_city = df.groupby('city')['track'].count()\n",
    "display(df_city)"
   ]
  },
  {
   "cell_type": "markdown",
   "metadata": {
    "id": "dzli3w8o_Zcu"
   },
   "source": [
    "Moscow is leading with quantity of tracks listened to. But that doesn't mean that that in Moscow users use the service more often, it means that there are more users there."
   ]
  },
  {
   "cell_type": "code",
   "execution_count": 25,
   "metadata": {
    "id": "uZMKjiJz_Zcu"
   },
   "outputs": [
    {
     "data": {
      "text/plain": [
       "day\n",
       "Friday       21840\n",
       "Monday       21354\n",
       "Wednesday    18059\n",
       "Name: track, dtype: int64"
      ]
     },
     "metadata": {},
     "output_type": "display_data"
    }
   ],
   "source": [
    "# Amount of tracks per day\n",
    "df_days = df.groupby('day')['track'].count()\n",
    "display(df_days)"
   ]
  },
  {
   "cell_type": "markdown",
   "metadata": {
    "id": "cC2tNrlL_Zcu"
   },
   "source": [
    "On average users are less active on Wednesdays. But the picture may change if we closely look on each group separately."
   ]
  },
  {
   "cell_type": "code",
   "execution_count": 26,
   "metadata": {
    "id": "Nz3GdQB1_Zcu"
   },
   "outputs": [],
   "source": [
    "# Function that filters out lines with necessary day and city and returns the number of users\n",
    "\n",
    "def number_tracks(day, city):\n",
    "    track_list = df[df['day'] == day]\n",
    "    track_list = track_list[track_list['city'] == city]\n",
    "    track_list_count = track_list['user_id'].count()\n",
    "    return track_list_count"
   ]
  },
  {
   "cell_type": "code",
   "execution_count": 27,
   "metadata": {
    "id": "rJcRATNQ_Zcu"
   },
   "outputs": [
    {
     "data": {
      "text/plain": [
       "15740"
      ]
     },
     "metadata": {},
     "output_type": "display_data"
    }
   ],
   "source": [
    "# number of listenings in Moscow on Monday\n",
    "display(number_tracks('Monday', 'Moscow'))"
   ]
  },
  {
   "cell_type": "code",
   "execution_count": 28,
   "metadata": {
    "id": "hq_ncZ5T_Zcu"
   },
   "outputs": [
    {
     "data": {
      "text/plain": [
       "5614"
      ]
     },
     "metadata": {},
     "output_type": "display_data"
    }
   ],
   "source": [
    "# number of listenings in St.Petersburg on Monday\n",
    "display(number_tracks('Monday', 'Saint-Petersburg'))"
   ]
  },
  {
   "cell_type": "code",
   "execution_count": 29,
   "metadata": {
    "id": "_NTy2VPU_Zcu"
   },
   "outputs": [
    {
     "data": {
      "text/plain": [
       "11056"
      ]
     },
     "metadata": {},
     "output_type": "display_data"
    }
   ],
   "source": [
    "# number of listenings in Moscow on Wednesday\n",
    "display(number_tracks('Wednesday', 'Moscow'))"
   ]
  },
  {
   "cell_type": "code",
   "execution_count": 30,
   "metadata": {
    "id": "j2y3TAwo_Zcu"
   },
   "outputs": [
    {
     "data": {
      "text/plain": [
       "7003"
      ]
     },
     "metadata": {},
     "output_type": "display_data"
    }
   ],
   "source": [
    "# number of listenings in St.Petersburg on Wednesday\n",
    "display(number_tracks('Wednesday', 'Saint-Petersburg'))"
   ]
  },
  {
   "cell_type": "code",
   "execution_count": 31,
   "metadata": {
    "id": "vYDw5u_K_Zcu"
   },
   "outputs": [
    {
     "data": {
      "text/plain": [
       "15945"
      ]
     },
     "metadata": {},
     "output_type": "display_data"
    }
   ],
   "source": [
    "# number of listenings in Moscow on Friday\n",
    "display(number_tracks('Friday', 'Moscow'))"
   ]
  },
  {
   "cell_type": "code",
   "execution_count": 32,
   "metadata": {
    "id": "8_yzFtW3_Zcu"
   },
   "outputs": [
    {
     "data": {
      "text/plain": [
       "5895"
      ]
     },
     "metadata": {},
     "output_type": "display_data"
    }
   ],
   "source": [
    "# number of listenings in St.Petersburg on Friday\n",
    "display(number_tracks('Friday', 'Saint-Petersburg'))"
   ]
  },
  {
   "cell_type": "code",
   "execution_count": 33,
   "metadata": {
    "id": "APAcLpOr_Zcu"
   },
   "outputs": [
    {
     "data": {
      "text/html": [
       "<div>\n",
       "<style scoped>\n",
       "    .dataframe tbody tr th:only-of-type {\n",
       "        vertical-align: middle;\n",
       "    }\n",
       "\n",
       "    .dataframe tbody tr th {\n",
       "        vertical-align: top;\n",
       "    }\n",
       "\n",
       "    .dataframe thead th {\n",
       "        text-align: right;\n",
       "    }\n",
       "</style>\n",
       "<table border=\"1\" class=\"dataframe\">\n",
       "  <thead>\n",
       "    <tr style=\"text-align: right;\">\n",
       "      <th></th>\n",
       "      <th>city</th>\n",
       "      <th>monday</th>\n",
       "      <th>wednesday</th>\n",
       "      <th>friday</th>\n",
       "    </tr>\n",
       "  </thead>\n",
       "  <tbody>\n",
       "    <tr>\n",
       "      <th>0</th>\n",
       "      <td>Moscow</td>\n",
       "      <td>15740</td>\n",
       "      <td>11056</td>\n",
       "      <td>15945</td>\n",
       "    </tr>\n",
       "    <tr>\n",
       "      <th>1</th>\n",
       "      <td>Saint-Petersburg</td>\n",
       "      <td>5614</td>\n",
       "      <td>7003</td>\n",
       "      <td>5895</td>\n",
       "    </tr>\n",
       "  </tbody>\n",
       "</table>\n",
       "</div>"
      ],
      "text/plain": [
       "               city  monday  wednesday  friday\n",
       "0            Moscow   15740      11056   15945\n",
       "1  Saint-Petersburg    5614       7003    5895"
      ]
     },
     "metadata": {},
     "output_type": "display_data"
    }
   ],
   "source": [
    "# Results in a table view\n",
    "track_columns = ['city', 'monday', 'wednesday', 'friday']\n",
    "track_data = [\n",
    "    ['Moscow',15740, 11056, 15945],\n",
    "    ['Saint-Petersburg', 5614, 7003, 5895]\n",
    "]\n",
    "display(pd.DataFrame(data=track_data, columns=track_columns))"
   ]
  },
  {
   "cell_type": "markdown",
   "metadata": {
    "id": "-EgPIHYu_Zcu"
   },
   "source": [
    "**Conclusion**\n",
    "\n",
    "Data represents differences in user behavior:\n",
    "\n",
    "- In Moscow maximum quantity of listenings is on Monday and Friday.\n",
    "- In St.Petersburg the situation is vice versa: maximum activity is on Wednesday.\n",
    "\n",
    "The results support the first hypothesis."
   ]
  },
  {
   "cell_type": "markdown",
   "metadata": {
    "id": "atZAxtq4_Zcu"
   },
   "source": [
    "### Music at the beginning and at the end of the week"
   ]
  },
  {
   "cell_type": "markdown",
   "metadata": {
    "id": "eXrQqXFH_Zcu"
   },
   "source": [
    "Согласно второй гипотезе, утром в понедельник в Москве преобладают одни жанры, а в Петербурге — другие. Так же и вечером пятницы преобладают разные жанры — в зависимости от города."
   ]
  },
  {
   "cell_type": "code",
   "execution_count": 34,
   "metadata": {
    "id": "qeaFfM_P_Zcu"
   },
   "outputs": [
    {
     "data": {
      "text/html": [
       "<div>\n",
       "<style scoped>\n",
       "    .dataframe tbody tr th:only-of-type {\n",
       "        vertical-align: middle;\n",
       "    }\n",
       "\n",
       "    .dataframe tbody tr th {\n",
       "        vertical-align: top;\n",
       "    }\n",
       "\n",
       "    .dataframe thead th {\n",
       "        text-align: right;\n",
       "    }\n",
       "</style>\n",
       "<table border=\"1\" class=\"dataframe\">\n",
       "  <thead>\n",
       "    <tr style=\"text-align: right;\">\n",
       "      <th></th>\n",
       "      <th>user_id</th>\n",
       "      <th>track</th>\n",
       "      <th>artist</th>\n",
       "      <th>genre</th>\n",
       "      <th>city</th>\n",
       "      <th>time</th>\n",
       "      <th>day</th>\n",
       "    </tr>\n",
       "  </thead>\n",
       "  <tbody>\n",
       "    <tr>\n",
       "      <th>0</th>\n",
       "      <td>55204538</td>\n",
       "      <td>Delayed Because of Accident</td>\n",
       "      <td>Andreas Rönnberg</td>\n",
       "      <td>rock</td>\n",
       "      <td>Moscow</td>\n",
       "      <td>14:07:09</td>\n",
       "      <td>Friday</td>\n",
       "    </tr>\n",
       "    <tr>\n",
       "      <th>1</th>\n",
       "      <td>E2DC1FAE</td>\n",
       "      <td>Soul People</td>\n",
       "      <td>Space Echo</td>\n",
       "      <td>dance</td>\n",
       "      <td>Moscow</td>\n",
       "      <td>08:34:34</td>\n",
       "      <td>Monday</td>\n",
       "    </tr>\n",
       "    <tr>\n",
       "      <th>2</th>\n",
       "      <td>4CB90AA5</td>\n",
       "      <td>True</td>\n",
       "      <td>Roman Messer</td>\n",
       "      <td>dance</td>\n",
       "      <td>Moscow</td>\n",
       "      <td>13:00:07</td>\n",
       "      <td>Wednesday</td>\n",
       "    </tr>\n",
       "    <tr>\n",
       "      <th>3</th>\n",
       "      <td>F03E1C1F</td>\n",
       "      <td>Feeling This Way</td>\n",
       "      <td>Polina Griffith</td>\n",
       "      <td>dance</td>\n",
       "      <td>Moscow</td>\n",
       "      <td>20:47:49</td>\n",
       "      <td>Wednesday</td>\n",
       "    </tr>\n",
       "    <tr>\n",
       "      <th>4</th>\n",
       "      <td>8FA1D3BE</td>\n",
       "      <td>И вновь продолжается бой</td>\n",
       "      <td>unknown</td>\n",
       "      <td>ruspop</td>\n",
       "      <td>Moscow</td>\n",
       "      <td>09:17:40</td>\n",
       "      <td>Friday</td>\n",
       "    </tr>\n",
       "    <tr>\n",
       "      <th>5</th>\n",
       "      <td>BC5A3A29</td>\n",
       "      <td>Gool la Mita</td>\n",
       "      <td>Shireen Abdul Wahab</td>\n",
       "      <td>world</td>\n",
       "      <td>Moscow</td>\n",
       "      <td>14:08:42</td>\n",
       "      <td>Monday</td>\n",
       "    </tr>\n",
       "    <tr>\n",
       "      <th>6</th>\n",
       "      <td>8B5192C0</td>\n",
       "      <td>Is There Anybody Out There? (Panoramic Paralys...</td>\n",
       "      <td>Pink Floyd Floydhead</td>\n",
       "      <td>electronic</td>\n",
       "      <td>Moscow</td>\n",
       "      <td>13:47:49</td>\n",
       "      <td>Monday</td>\n",
       "    </tr>\n",
       "    <tr>\n",
       "      <th>7</th>\n",
       "      <td>FF3FD2BD</td>\n",
       "      <td>Мина син генэ кирэк</td>\n",
       "      <td>Ильдар Хакимов</td>\n",
       "      <td>pop</td>\n",
       "      <td>Moscow</td>\n",
       "      <td>09:19:49</td>\n",
       "      <td>Monday</td>\n",
       "    </tr>\n",
       "    <tr>\n",
       "      <th>8</th>\n",
       "      <td>CC782B0F</td>\n",
       "      <td>After School Special</td>\n",
       "      <td>Detroit Grand Pubahs</td>\n",
       "      <td>dance</td>\n",
       "      <td>Moscow</td>\n",
       "      <td>20:04:12</td>\n",
       "      <td>Friday</td>\n",
       "    </tr>\n",
       "    <tr>\n",
       "      <th>9</th>\n",
       "      <td>E3C5756F</td>\n",
       "      <td>unknown</td>\n",
       "      <td>unknown</td>\n",
       "      <td>unknown</td>\n",
       "      <td>Moscow</td>\n",
       "      <td>09:24:51</td>\n",
       "      <td>Monday</td>\n",
       "    </tr>\n",
       "  </tbody>\n",
       "</table>\n",
       "</div>"
      ],
      "text/plain": [
       "    user_id                                              track  \\\n",
       "0  55204538                        Delayed Because of Accident   \n",
       "1  E2DC1FAE                                        Soul People   \n",
       "2  4CB90AA5                                               True   \n",
       "3  F03E1C1F                                   Feeling This Way   \n",
       "4  8FA1D3BE                           И вновь продолжается бой   \n",
       "5  BC5A3A29                                       Gool la Mita   \n",
       "6  8B5192C0  Is There Anybody Out There? (Panoramic Paralys...   \n",
       "7  FF3FD2BD                                Мина син генэ кирэк   \n",
       "8  CC782B0F                               After School Special   \n",
       "9  E3C5756F                                            unknown   \n",
       "\n",
       "                 artist       genre    city      time        day  \n",
       "0      Andreas Rönnberg        rock  Moscow  14:07:09     Friday  \n",
       "1            Space Echo       dance  Moscow  08:34:34     Monday  \n",
       "2          Roman Messer       dance  Moscow  13:00:07  Wednesday  \n",
       "3       Polina Griffith       dance  Moscow  20:47:49  Wednesday  \n",
       "4               unknown      ruspop  Moscow  09:17:40     Friday  \n",
       "5   Shireen Abdul Wahab       world  Moscow  14:08:42     Monday  \n",
       "6  Pink Floyd Floydhead  electronic  Moscow  13:47:49     Monday  \n",
       "7        Ильдар Хакимов         pop  Moscow  09:19:49     Monday  \n",
       "8  Detroit Grand Pubahs       dance  Moscow  20:04:12     Friday  \n",
       "9               unknown     unknown  Moscow  09:24:51     Monday  "
      ]
     },
     "metadata": {},
     "output_type": "display_data"
    }
   ],
   "source": [
    "# saving all the users from Moscow into variable moscow_general\n",
    "moscow_general = df[df['city'] == 'Moscow'].reset_index(drop=True)\n",
    "display(moscow_general.head(10))\n"
   ]
  },
  {
   "cell_type": "code",
   "execution_count": 35,
   "metadata": {
    "id": "ORaVRKto_Zcu"
   },
   "outputs": [
    {
     "data": {
      "text/html": [
       "<div>\n",
       "<style scoped>\n",
       "    .dataframe tbody tr th:only-of-type {\n",
       "        vertical-align: middle;\n",
       "    }\n",
       "\n",
       "    .dataframe tbody tr th {\n",
       "        vertical-align: top;\n",
       "    }\n",
       "\n",
       "    .dataframe thead th {\n",
       "        text-align: right;\n",
       "    }\n",
       "</style>\n",
       "<table border=\"1\" class=\"dataframe\">\n",
       "  <thead>\n",
       "    <tr style=\"text-align: right;\">\n",
       "      <th></th>\n",
       "      <th>user_id</th>\n",
       "      <th>track</th>\n",
       "      <th>artist</th>\n",
       "      <th>genre</th>\n",
       "      <th>city</th>\n",
       "      <th>time</th>\n",
       "      <th>day</th>\n",
       "    </tr>\n",
       "  </thead>\n",
       "  <tbody>\n",
       "    <tr>\n",
       "      <th>0</th>\n",
       "      <td>FFB692EC</td>\n",
       "      <td>Kamigata To Boots</td>\n",
       "      <td>The Mass Missile</td>\n",
       "      <td>rock</td>\n",
       "      <td>Saint-Petersburg</td>\n",
       "      <td>20:28:33</td>\n",
       "      <td>Wednesday</td>\n",
       "    </tr>\n",
       "    <tr>\n",
       "      <th>1</th>\n",
       "      <td>20EC38</td>\n",
       "      <td>Funiculì funiculà</td>\n",
       "      <td>Mario Lanza</td>\n",
       "      <td>pop</td>\n",
       "      <td>Saint-Petersburg</td>\n",
       "      <td>20:58:07</td>\n",
       "      <td>Wednesday</td>\n",
       "    </tr>\n",
       "    <tr>\n",
       "      <th>2</th>\n",
       "      <td>A3DD03C9</td>\n",
       "      <td>Dragons in the Sunset</td>\n",
       "      <td>Fire + Ice</td>\n",
       "      <td>folk</td>\n",
       "      <td>Saint-Petersburg</td>\n",
       "      <td>08:37:09</td>\n",
       "      <td>Monday</td>\n",
       "    </tr>\n",
       "    <tr>\n",
       "      <th>3</th>\n",
       "      <td>842029A1</td>\n",
       "      <td>Преданная</td>\n",
       "      <td>IMPERVTOR</td>\n",
       "      <td>rusrap</td>\n",
       "      <td>Saint-Petersburg</td>\n",
       "      <td>13:09:41</td>\n",
       "      <td>Friday</td>\n",
       "    </tr>\n",
       "    <tr>\n",
       "      <th>4</th>\n",
       "      <td>E772D5C0</td>\n",
       "      <td>Pessimist</td>\n",
       "      <td>unknown</td>\n",
       "      <td>dance</td>\n",
       "      <td>Saint-Petersburg</td>\n",
       "      <td>21:20:49</td>\n",
       "      <td>Wednesday</td>\n",
       "    </tr>\n",
       "    <tr>\n",
       "      <th>5</th>\n",
       "      <td>94EB25C2</td>\n",
       "      <td>Make Love Whenever You Can</td>\n",
       "      <td>Arabesque</td>\n",
       "      <td>pop</td>\n",
       "      <td>Saint-Petersburg</td>\n",
       "      <td>13:22:08</td>\n",
       "      <td>Wednesday</td>\n",
       "    </tr>\n",
       "    <tr>\n",
       "      <th>6</th>\n",
       "      <td>81D05C7D</td>\n",
       "      <td>SLAVES OF FEAR</td>\n",
       "      <td>HEALTH</td>\n",
       "      <td>alternative</td>\n",
       "      <td>Saint-Petersburg</td>\n",
       "      <td>20:54:48</td>\n",
       "      <td>Monday</td>\n",
       "    </tr>\n",
       "    <tr>\n",
       "      <th>7</th>\n",
       "      <td>39DE290E</td>\n",
       "      <td>Веснянка</td>\n",
       "      <td>Веданъ Колодъ</td>\n",
       "      <td>folk</td>\n",
       "      <td>Saint-Petersburg</td>\n",
       "      <td>14:36:47</td>\n",
       "      <td>Monday</td>\n",
       "    </tr>\n",
       "    <tr>\n",
       "      <th>8</th>\n",
       "      <td>58AE138A</td>\n",
       "      <td>Pat-a-Cake</td>\n",
       "      <td>Mother Goose Club</td>\n",
       "      <td>children</td>\n",
       "      <td>Saint-Petersburg</td>\n",
       "      <td>20:04:56</td>\n",
       "      <td>Monday</td>\n",
       "    </tr>\n",
       "    <tr>\n",
       "      <th>9</th>\n",
       "      <td>B8E29C9C</td>\n",
       "      <td>Самота</td>\n",
       "      <td>unknown</td>\n",
       "      <td>folk</td>\n",
       "      <td>Saint-Petersburg</td>\n",
       "      <td>20:20:49</td>\n",
       "      <td>Wednesday</td>\n",
       "    </tr>\n",
       "  </tbody>\n",
       "</table>\n",
       "</div>"
      ],
      "text/plain": [
       "    user_id                       track             artist        genre  \\\n",
       "0  FFB692EC           Kamigata To Boots   The Mass Missile         rock   \n",
       "1    20EC38           Funiculì funiculà        Mario Lanza          pop   \n",
       "2  A3DD03C9       Dragons in the Sunset         Fire + Ice         folk   \n",
       "3  842029A1                   Преданная          IMPERVTOR       rusrap   \n",
       "4  E772D5C0                   Pessimist            unknown        dance   \n",
       "5  94EB25C2  Make Love Whenever You Can          Arabesque          pop   \n",
       "6  81D05C7D              SLAVES OF FEAR             HEALTH  alternative   \n",
       "7  39DE290E                    Веснянка      Веданъ Колодъ         folk   \n",
       "8  58AE138A                  Pat-a-Cake  Mother Goose Club     children   \n",
       "9  B8E29C9C                      Самота            unknown         folk   \n",
       "\n",
       "               city      time        day  \n",
       "0  Saint-Petersburg  20:28:33  Wednesday  \n",
       "1  Saint-Petersburg  20:58:07  Wednesday  \n",
       "2  Saint-Petersburg  08:37:09     Monday  \n",
       "3  Saint-Petersburg  13:09:41     Friday  \n",
       "4  Saint-Petersburg  21:20:49  Wednesday  \n",
       "5  Saint-Petersburg  13:22:08  Wednesday  \n",
       "6  Saint-Petersburg  20:54:48     Monday  \n",
       "7  Saint-Petersburg  14:36:47     Monday  \n",
       "8  Saint-Petersburg  20:04:56     Monday  \n",
       "9  Saint-Petersburg  20:20:49  Wednesday  "
      ]
     },
     "metadata": {},
     "output_type": "display_data"
    }
   ],
   "source": [
    "# saving all the users from St.Petersburg into variable spb_general\n",
    "spb_general = df[df['city'] == 'Saint-Petersburg'].reset_index(drop=True)\n",
    "display(spb_general.head(10))"
   ]
  },
  {
   "cell_type": "markdown",
   "metadata": {
    "id": "MEJV-CX2_Zcu"
   },
   "source": [
    "Создайте функцию `genre_weekday()` с четырьмя параметрами:\n",
    "* таблица (датафрейм) с данными,\n",
    "* день недели,\n",
    "* начальная временная метка в формате 'hh:mm', \n",
    "* последняя временная метка в формате 'hh:mm'.\n",
    "\n",
    "Функция должна вернуть информацию о топ-10 жанров тех треков, которые прослушивали в указанный день, в промежутке между двумя отметками времени."
   ]
  },
  {
   "cell_type": "code",
   "execution_count": 36,
   "metadata": {
    "id": "laJT9BYl_Zcu"
   },
   "outputs": [
    {
     "ename": "SyntaxError",
     "evalue": "unmatched ']' (3950848454.py, line 4)",
     "output_type": "error",
     "traceback": [
      "\u001b[0;36m  Input \u001b[0;32mIn [36]\u001b[0;36m\u001b[0m\n\u001b[0;31m    genre_df = genre_df[genre_df['time'] > time1] & (genre_df['time'] < time2)]\u001b[0m\n\u001b[0m                                                                              ^\u001b[0m\n\u001b[0;31mSyntaxError\u001b[0m\u001b[0;31m:\u001b[0m unmatched ']'\n"
     ]
    }
   ],
   "source": [
    "# Function returns the most popular genres in particular day and time\n",
    "def genre_weekday(table, day, time1, time2):\n",
    "    genre_df = table[table['day'] == day]\n",
    "    genre_df = genre_df[genre_df['time'] > time1] & (genre_df['time'] < time2)]\n",
    "    genre_df_count = genre_df.groupby('genre')['track'].count()\n",
    "    genre_df_sorted = genre_df_count.sort_values(ascending = False)\n",
    "    return genre_df_sorted.head(10)"
   ]
  },
  {
   "cell_type": "code",
   "execution_count": null,
   "metadata": {
    "id": "yz7itPUQ_Zcu"
   },
   "outputs": [],
   "source": [
    "# top-10 genres for Moscow between 7am and 11am\n",
    "display(genre_weekday(moscow_general, 'Monday', '07:00', '11:00'))"
   ]
  },
  {
   "cell_type": "code",
   "execution_count": null,
   "metadata": {
    "id": "kwUcHPdy_Zcu"
   },
   "outputs": [],
   "source": [
    "# top-10 genres for St.Petersburg between 7am and 11am\n",
    "display(genre_weekday(spb_general, 'Monday', '07:00', '11:00'))"
   ]
  },
  {
   "cell_type": "code",
   "execution_count": null,
   "metadata": {
    "id": "EzXVRE1o_Zcu"
   },
   "outputs": [],
   "source": [
    "# top-10 genres for Moscow between 5pm and 11pm\n",
    "display(genre_weekday(moscow_general, 'Friday', '17:00', '23:00'))"
   ]
  },
  {
   "cell_type": "code",
   "execution_count": null,
   "metadata": {
    "id": "JZaEKu5v_Zcu"
   },
   "outputs": [],
   "source": [
    "# top-10 genres for St.Petersburg between 5pm and 11pm\n",
    "display(genre_weekday(spb_general, 'Friday', '17:00', '23:00'))"
   ]
  },
  {
   "cell_type": "markdown",
   "metadata": {
    "id": "wrCe4MNX_Zcu"
   },
   "source": [
    "**Conclusion**\n",
    "\n",
    "For Monday morning we have following results:\n",
    "\n",
    "1. In both cities people listen to similar music. The only difference is that genre \"world\" made it to top-10 rating in Moscow and \"jazz\" and \"classical\" to top-10 rating in St.Petersburg.\n",
    "\n",
    "2. For Moscow there are lots of missing values - `'unknown'` is on 10th place of the rating. It means that missing values make it a significant portion of data and putting calculations at risk.\n",
    "\n",
    "For Friday evening the situation is practically the same.\n",
    "\n",
    "So the second hypothesis was only partially confirmed:\n",
    "* Users listen to similar music at the beginning and at the end of the week.\n",
    "* Difference between two cities is barely vivid. "
   ]
  },
  {
   "cell_type": "markdown",
   "metadata": {
    "id": "JolODAqr_Zcu"
   },
   "source": [
    "### Genre preferences in two cities\n"
   ]
  },
  {
   "cell_type": "markdown",
   "metadata": {
    "id": "DlegSvaT_Zcu"
   },
   "source": [
    "Сгруппируйте таблицу `moscow_general` по жанру и посчитайте прослушивания треков каждого жанра методом `count()`. Затем отсортируйте результат в порядке убывания и сохраните его в таблице `moscow_genres`."
   ]
  },
  {
   "cell_type": "code",
   "execution_count": null,
   "metadata": {
    "id": "r19lIPke_Zcu"
   },
   "outputs": [],
   "source": [
    "# grouping Moscow users by genre\n",
    "moscow_genres = moscow_general.groupby('genre')['track'].count().sort_values(ascending = False)"
   ]
  },
  {
   "cell_type": "code",
   "execution_count": null,
   "metadata": {
    "id": "WhCSooF8_Zcv"
   },
   "outputs": [],
   "source": [
    "# displaying first 10 lines of moscow_genres\n",
    "display(moscow_genres.head(10))"
   ]
  },
  {
   "cell_type": "code",
   "execution_count": null,
   "metadata": {
    "id": "gluLIpE7_Zcv"
   },
   "outputs": [],
   "source": [
    "# grouping St.Petersburg users by genre\n",
    "spb_genres = spb_general.groupby('genre')['track'].count().sort_values(ascending = False)"
   ]
  },
  {
   "cell_type": "code",
   "execution_count": null,
   "metadata": {
    "id": "uaGJHjVU_Zcv"
   },
   "outputs": [],
   "source": [
    "display(spb_genres.head(10))"
   ]
  },
  {
   "cell_type": "markdown",
   "metadata": {
    "id": "RY51YJYu_Zcv"
   },
   "source": [
    "**Conclusion**"
   ]
  },
  {
   "cell_type": "markdown",
   "metadata": {
    "id": "nVhnJEm__Zcv"
   },
   "source": [
    "Hypothesis is partially confirmed:\n",
    "* Pop music is the most popular genre in Moscow\n",
    "* Rap music is equally popular in both cities.\n"
   ]
  },
  {
   "cell_type": "markdown",
   "metadata": {
    "id": "ykKQ0N65_Zcv"
   },
   "source": [
    "## Results"
   ]
  },
  {
   "cell_type": "markdown",
   "metadata": {
    "id": "tjUwbHb3_Zcv"
   },
   "source": [
    "1. There is a correlation between weekdays and users activity in both cities\n",
    "\n",
    "2. Genre preferences barely change throughout the week in both cities.\n",
    "* genre “world” made it to the top-10 in Moscow,\n",
    "* \"gazz\" and \"classical\" are in top-10 for St.Petersburg.\n",
    "\n",
    "3. Moreover, genre preferences in both cities are very similar"
   ]
  },
  {
   "cell_type": "code",
   "execution_count": null,
   "metadata": {},
   "outputs": [],
   "source": []
  }
 ],
 "metadata": {
  "ExecuteTimeLog": [
   {
    "duration": 70,
    "start_time": "2022-05-15T21:00:11.708Z"
   },
   {
    "duration": 495,
    "start_time": "2022-05-15T21:00:49.953Z"
   },
   {
    "duration": 68,
    "start_time": "2022-05-15T21:01:21.495Z"
   },
   {
    "duration": 469,
    "start_time": "2022-05-15T21:01:26.981Z"
   },
   {
    "duration": 195,
    "start_time": "2022-05-15T21:01:29.676Z"
   },
   {
    "duration": 12,
    "start_time": "2022-05-15T21:01:34.301Z"
   },
   {
    "duration": 38,
    "start_time": "2022-05-15T21:01:47.758Z"
   },
   {
    "duration": 42,
    "start_time": "2022-05-15T21:02:24.827Z"
   },
   {
    "duration": 4,
    "start_time": "2022-05-15T21:18:26.505Z"
   },
   {
    "duration": 16,
    "start_time": "2022-05-15T21:21:24.597Z"
   },
   {
    "duration": 4,
    "start_time": "2022-05-15T21:22:07.792Z"
   },
   {
    "duration": 33,
    "start_time": "2022-05-15T21:24:04.428Z"
   },
   {
    "duration": 54,
    "start_time": "2022-05-16T04:00:03.465Z"
   },
   {
    "duration": 388,
    "start_time": "2022-05-16T04:00:37.150Z"
   },
   {
    "duration": 166,
    "start_time": "2022-05-16T04:00:43.617Z"
   },
   {
    "duration": 15,
    "start_time": "2022-05-16T04:00:47.733Z"
   },
   {
    "duration": 32,
    "start_time": "2022-05-16T04:00:52.275Z"
   },
   {
    "duration": 3,
    "start_time": "2022-05-16T04:00:57.639Z"
   },
   {
    "duration": 13,
    "start_time": "2022-05-16T04:01:04.637Z"
   },
   {
    "duration": 4,
    "start_time": "2022-05-16T04:01:07.495Z"
   },
   {
    "duration": 22,
    "start_time": "2022-05-16T04:01:15.407Z"
   },
   {
    "duration": 18,
    "start_time": "2022-05-16T04:02:44.635Z"
   },
   {
    "duration": 31,
    "start_time": "2022-05-16T04:03:20.559Z"
   },
   {
    "duration": 64,
    "start_time": "2022-05-16T04:03:33.413Z"
   },
   {
    "duration": 76,
    "start_time": "2022-05-16T04:08:00.765Z"
   },
   {
    "duration": 66,
    "start_time": "2022-05-16T04:12:25.166Z"
   },
   {
    "duration": 7,
    "start_time": "2022-05-16T04:22:02.341Z"
   },
   {
    "duration": 26,
    "start_time": "2022-05-16T04:26:49.732Z"
   },
   {
    "duration": 45,
    "start_time": "2022-05-16T04:27:15.355Z"
   },
   {
    "duration": 718,
    "start_time": "2022-05-18T09:43:55.970Z"
   },
   {
    "duration": 227,
    "start_time": "2022-05-18T09:43:56.694Z"
   },
   {
    "duration": 18,
    "start_time": "2022-05-18T09:45:23.610Z"
   },
   {
    "duration": 3,
    "start_time": "2022-05-18T09:46:26.499Z"
   },
   {
    "duration": 37,
    "start_time": "2022-05-18T09:47:34.457Z"
   },
   {
    "duration": 464,
    "start_time": "2022-05-18T09:50:22.861Z"
   },
   {
    "duration": 240,
    "start_time": "2022-05-18T09:50:23.328Z"
   },
   {
    "duration": 18,
    "start_time": "2022-05-18T09:50:23.575Z"
   },
   {
    "duration": 77,
    "start_time": "2022-05-18T09:50:23.595Z"
   },
   {
    "duration": 5,
    "start_time": "2022-05-18T09:50:23.676Z"
   },
   {
    "duration": 12,
    "start_time": "2022-05-18T09:50:23.682Z"
   },
   {
    "duration": 19,
    "start_time": "2022-05-18T09:50:23.695Z"
   },
   {
    "duration": 15,
    "start_time": "2022-05-18T09:50:23.716Z"
   },
   {
    "duration": 61,
    "start_time": "2022-05-18T09:50:23.733Z"
   },
   {
    "duration": 18,
    "start_time": "2022-05-18T09:50:23.797Z"
   },
   {
    "duration": 51,
    "start_time": "2022-05-18T09:50:23.816Z"
   },
   {
    "duration": 85,
    "start_time": "2022-05-18T09:50:23.872Z"
   },
   {
    "duration": 88,
    "start_time": "2022-05-18T09:50:23.960Z"
   },
   {
    "duration": 68,
    "start_time": "2022-05-18T09:50:24.050Z"
   },
   {
    "duration": 67,
    "start_time": "2022-05-18T09:50:24.127Z"
   },
   {
    "duration": 5,
    "start_time": "2022-05-18T09:50:24.196Z"
   },
   {
    "duration": 37,
    "start_time": "2022-05-18T09:50:24.202Z"
   },
   {
    "duration": 58,
    "start_time": "2022-05-18T09:50:24.241Z"
   },
   {
    "duration": 12,
    "start_time": "2022-05-18T09:50:24.300Z"
   },
   {
    "duration": 62,
    "start_time": "2022-05-18T09:50:24.313Z"
   },
   {
    "duration": 11,
    "start_time": "2022-05-18T09:50:24.377Z"
   },
   {
    "duration": 44,
    "start_time": "2022-05-18T09:50:24.390Z"
   },
   {
    "duration": 44,
    "start_time": "2022-05-18T09:50:24.437Z"
   },
   {
    "duration": 59,
    "start_time": "2022-05-18T09:50:24.483Z"
   },
   {
    "duration": 39,
    "start_time": "2022-05-18T09:50:24.548Z"
   },
   {
    "duration": 37,
    "start_time": "2022-05-18T09:50:24.589Z"
   },
   {
    "duration": 65,
    "start_time": "2022-05-18T09:50:24.628Z"
   },
   {
    "duration": 11,
    "start_time": "2022-05-18T09:50:24.697Z"
   },
   {
    "duration": 32,
    "start_time": "2022-05-18T09:50:24.710Z"
   },
   {
    "duration": 53,
    "start_time": "2022-05-18T09:50:24.744Z"
   },
   {
    "duration": 10,
    "start_time": "2022-05-18T09:50:24.799Z"
   },
   {
    "duration": 38,
    "start_time": "2022-05-18T09:50:24.811Z"
   },
   {
    "duration": 60,
    "start_time": "2022-05-18T09:50:24.852Z"
   },
   {
    "duration": 36,
    "start_time": "2022-05-18T09:50:24.913Z"
   },
   {
    "duration": 45,
    "start_time": "2022-05-18T09:50:24.951Z"
   },
   {
    "duration": 10,
    "start_time": "2022-05-18T09:50:24.998Z"
   },
   {
    "duration": 5,
    "start_time": "2022-05-18T09:50:25.009Z"
   },
   {
    "duration": 14,
    "start_time": "2022-05-18T09:50:25.016Z"
   },
   {
    "duration": 48,
    "start_time": "2022-05-18T09:50:25.032Z"
   },
   {
    "duration": 534,
    "start_time": "2022-05-18T18:54:09.848Z"
   },
   {
    "duration": 556,
    "start_time": "2022-05-18T18:54:10.385Z"
   },
   {
    "duration": 24,
    "start_time": "2022-05-18T18:54:10.943Z"
   },
   {
    "duration": 33,
    "start_time": "2022-05-18T18:54:10.969Z"
   },
   {
    "duration": 5,
    "start_time": "2022-05-18T18:54:57.495Z"
   },
   {
    "duration": 3,
    "start_time": "2022-05-18T18:57:45.336Z"
   },
   {
    "duration": 165,
    "start_time": "2022-05-18T18:57:45.364Z"
   },
   {
    "duration": 11,
    "start_time": "2022-05-18T18:57:45.531Z"
   },
   {
    "duration": 36,
    "start_time": "2022-05-18T18:57:45.544Z"
   },
   {
    "duration": 4,
    "start_time": "2022-05-18T18:57:45.581Z"
   },
   {
    "duration": 7,
    "start_time": "2022-05-18T18:57:45.588Z"
   },
   {
    "duration": 17,
    "start_time": "2022-05-18T18:57:45.597Z"
   },
   {
    "duration": 11,
    "start_time": "2022-05-18T18:57:50.610Z"
   },
   {
    "duration": 24,
    "start_time": "2022-05-18T18:58:55.265Z"
   },
   {
    "duration": 2,
    "start_time": "2022-05-18T18:59:49.590Z"
   },
   {
    "duration": 167,
    "start_time": "2022-05-18T18:59:49.604Z"
   },
   {
    "duration": 10,
    "start_time": "2022-05-18T18:59:49.775Z"
   },
   {
    "duration": 30,
    "start_time": "2022-05-18T18:59:49.786Z"
   },
   {
    "duration": 5,
    "start_time": "2022-05-18T18:59:49.818Z"
   },
   {
    "duration": 9,
    "start_time": "2022-05-18T18:59:49.825Z"
   },
   {
    "duration": 15,
    "start_time": "2022-05-18T18:59:49.837Z"
   },
   {
    "duration": 23,
    "start_time": "2022-05-18T18:59:49.853Z"
   },
   {
    "duration": 24,
    "start_time": "2022-05-18T18:59:49.877Z"
   },
   {
    "duration": 19,
    "start_time": "2022-05-18T18:59:49.903Z"
   },
   {
    "duration": 52,
    "start_time": "2022-05-18T18:59:49.924Z"
   },
   {
    "duration": 60,
    "start_time": "2022-05-18T18:59:52.288Z"
   },
   {
    "duration": 43,
    "start_time": "2022-05-18T19:00:09.828Z"
   },
   {
    "duration": 72,
    "start_time": "2022-05-18T19:00:36.788Z"
   },
   {
    "duration": 69,
    "start_time": "2022-05-18T19:00:44.026Z"
   },
   {
    "duration": 44,
    "start_time": "2022-05-18T19:01:21.887Z"
   },
   {
    "duration": 39,
    "start_time": "2022-05-18T19:02:05.740Z"
   },
   {
    "duration": 48,
    "start_time": "2022-05-18T19:02:14.200Z"
   },
   {
    "duration": 2,
    "start_time": "2022-05-18T19:29:02.114Z"
   },
   {
    "duration": 10,
    "start_time": "2022-05-18T19:30:47.813Z"
   },
   {
    "duration": 44,
    "start_time": "2022-05-18T19:30:59.093Z"
   },
   {
    "duration": 4,
    "start_time": "2022-05-18T19:34:02.081Z"
   },
   {
    "duration": 178,
    "start_time": "2022-05-18T19:34:02.096Z"
   },
   {
    "duration": 16,
    "start_time": "2022-05-18T19:34:02.278Z"
   },
   {
    "duration": 30,
    "start_time": "2022-05-18T19:34:02.295Z"
   },
   {
    "duration": 3,
    "start_time": "2022-05-18T19:34:02.327Z"
   },
   {
    "duration": 6,
    "start_time": "2022-05-18T19:34:02.332Z"
   },
   {
    "duration": 10,
    "start_time": "2022-05-18T19:34:02.339Z"
   },
   {
    "duration": 5,
    "start_time": "2022-05-18T19:34:02.375Z"
   },
   {
    "duration": 37,
    "start_time": "2022-05-18T19:34:02.382Z"
   },
   {
    "duration": 17,
    "start_time": "2022-05-18T19:34:02.421Z"
   },
   {
    "duration": 45,
    "start_time": "2022-05-18T19:34:02.439Z"
   },
   {
    "duration": 69,
    "start_time": "2022-05-18T19:34:02.486Z"
   },
   {
    "duration": 87,
    "start_time": "2022-05-18T19:34:02.557Z"
   },
   {
    "duration": 77,
    "start_time": "2022-05-18T19:34:02.645Z"
   },
   {
    "duration": 60,
    "start_time": "2022-05-18T19:34:02.724Z"
   },
   {
    "duration": 10,
    "start_time": "2022-05-18T19:34:02.786Z"
   },
   {
    "duration": 16,
    "start_time": "2022-05-18T19:34:02.802Z"
   },
   {
    "duration": 61,
    "start_time": "2022-05-18T19:34:02.820Z"
   },
   {
    "duration": 18,
    "start_time": "2022-05-18T19:34:02.884Z"
   },
   {
    "duration": 17,
    "start_time": "2022-05-18T19:34:02.904Z"
   },
   {
    "duration": 4,
    "start_time": "2022-05-18T19:34:06.728Z"
   },
   {
    "duration": 3,
    "start_time": "2022-05-18T19:36:26.476Z"
   },
   {
    "duration": 165,
    "start_time": "2022-05-18T19:36:26.494Z"
   },
   {
    "duration": 23,
    "start_time": "2022-05-18T19:36:26.661Z"
   },
   {
    "duration": 47,
    "start_time": "2022-05-18T19:36:26.690Z"
   },
   {
    "duration": 4,
    "start_time": "2022-05-18T19:36:26.739Z"
   },
   {
    "duration": 9,
    "start_time": "2022-05-18T19:36:26.746Z"
   },
   {
    "duration": 32,
    "start_time": "2022-05-18T19:36:26.757Z"
   },
   {
    "duration": 6,
    "start_time": "2022-05-18T19:36:26.792Z"
   },
   {
    "duration": 27,
    "start_time": "2022-05-18T19:36:26.800Z"
   },
   {
    "duration": 17,
    "start_time": "2022-05-18T19:36:26.829Z"
   },
   {
    "duration": 60,
    "start_time": "2022-05-18T19:36:26.848Z"
   },
   {
    "duration": 73,
    "start_time": "2022-05-18T19:36:26.909Z"
   },
   {
    "duration": 90,
    "start_time": "2022-05-18T19:36:26.987Z"
   },
   {
    "duration": 66,
    "start_time": "2022-05-18T19:36:27.080Z"
   },
   {
    "duration": 65,
    "start_time": "2022-05-18T19:36:27.148Z"
   },
   {
    "duration": 3,
    "start_time": "2022-05-18T19:36:27.214Z"
   },
   {
    "duration": 12,
    "start_time": "2022-05-18T19:36:27.219Z"
   },
   {
    "duration": 59,
    "start_time": "2022-05-18T19:36:27.232Z"
   },
   {
    "duration": 15,
    "start_time": "2022-05-18T19:36:27.294Z"
   },
   {
    "duration": 17,
    "start_time": "2022-05-18T19:36:27.311Z"
   },
   {
    "duration": 4,
    "start_time": "2022-05-18T19:36:27.330Z"
   },
   {
    "duration": 55,
    "start_time": "2022-05-18T19:36:27.336Z"
   },
   {
    "duration": 17,
    "start_time": "2022-05-18T19:36:27.396Z"
   },
   {
    "duration": 17,
    "start_time": "2022-05-18T19:36:27.414Z"
   },
   {
    "duration": 13,
    "start_time": "2022-05-18T19:36:27.432Z"
   },
   {
    "duration": 50,
    "start_time": "2022-05-18T19:36:27.447Z"
   },
   {
    "duration": 18,
    "start_time": "2022-05-18T19:36:27.499Z"
   },
   {
    "duration": 8,
    "start_time": "2022-05-18T19:36:27.519Z"
   },
   {
    "duration": 48,
    "start_time": "2022-05-18T19:36:27.528Z"
   },
   {
    "duration": 27,
    "start_time": "2022-05-18T19:36:27.579Z"
   },
   {
    "duration": 4,
    "start_time": "2022-05-18T19:36:29.446Z"
   },
   {
    "duration": 354,
    "start_time": "2022-05-19T09:52:32.865Z"
   },
   {
    "duration": 429,
    "start_time": "2022-05-19T09:52:33.696Z"
   },
   {
    "duration": 16,
    "start_time": "2022-05-19T09:52:34.963Z"
   },
   {
    "duration": 29,
    "start_time": "2022-05-19T09:52:36.281Z"
   },
   {
    "duration": 3,
    "start_time": "2022-05-19T09:52:38.923Z"
   },
   {
    "duration": 3,
    "start_time": "2022-05-19T09:52:40.055Z"
   },
   {
    "duration": 13,
    "start_time": "2022-05-19T09:53:02.372Z"
   },
   {
    "duration": 4,
    "start_time": "2022-05-19T09:53:02.964Z"
   },
   {
    "duration": 23,
    "start_time": "2022-05-19T09:53:03.577Z"
   },
   {
    "duration": 17,
    "start_time": "2022-05-19T09:53:04.666Z"
   },
   {
    "duration": 22,
    "start_time": "2022-05-19T09:53:05.921Z"
   },
   {
    "duration": 83,
    "start_time": "2022-05-19T09:53:06.581Z"
   },
   {
    "duration": 83,
    "start_time": "2022-05-19T09:53:07.994Z"
   },
   {
    "duration": 58,
    "start_time": "2022-05-19T09:53:09.161Z"
   },
   {
    "duration": 36,
    "start_time": "2022-05-19T09:53:10.073Z"
   },
   {
    "duration": 75,
    "start_time": "2022-05-19T09:53:46.209Z"
   },
   {
    "duration": 2,
    "start_time": "2022-05-19T09:53:49.766Z"
   },
   {
    "duration": 18,
    "start_time": "2022-05-19T09:53:51.509Z"
   },
   {
    "duration": 36,
    "start_time": "2022-05-19T09:53:52.559Z"
   },
   {
    "duration": 11,
    "start_time": "2022-05-19T09:53:55.927Z"
   },
   {
    "duration": 14,
    "start_time": "2022-05-19T09:53:57.124Z"
   },
   {
    "duration": 4,
    "start_time": "2022-05-19T09:53:58.389Z"
   },
   {
    "duration": 25,
    "start_time": "2022-05-19T09:54:02.610Z"
   },
   {
    "duration": 15,
    "start_time": "2022-05-19T09:54:02.687Z"
   },
   {
    "duration": 15,
    "start_time": "2022-05-19T09:54:02.790Z"
   },
   {
    "duration": 14,
    "start_time": "2022-05-19T09:54:02.862Z"
   },
   {
    "duration": 18,
    "start_time": "2022-05-19T09:54:02.925Z"
   },
   {
    "duration": 14,
    "start_time": "2022-05-19T09:54:03.030Z"
   },
   {
    "duration": 9,
    "start_time": "2022-05-19T09:54:03.165Z"
   },
   {
    "duration": 30,
    "start_time": "2022-05-19T09:54:06.402Z"
   },
   {
    "duration": 21,
    "start_time": "2022-05-19T09:54:06.471Z"
   },
   {
    "duration": 4,
    "start_time": "2022-05-19T09:54:08.092Z"
   },
   {
    "duration": 4,
    "start_time": "2022-05-19T09:55:07.290Z"
   },
   {
    "duration": 174,
    "start_time": "2022-05-19T09:55:09.905Z"
   },
   {
    "duration": 4,
    "start_time": "2022-05-19T09:55:31.059Z"
   },
   {
    "duration": 17,
    "start_time": "2022-05-19T09:55:32.748Z"
   },
   {
    "duration": 11,
    "start_time": "2022-05-19T09:55:36.847Z"
   },
   {
    "duration": 4,
    "start_time": "2022-05-19T09:55:58.595Z"
   },
   {
    "duration": 20,
    "start_time": "2022-05-19T09:56:00.448Z"
   },
   {
    "duration": 16,
    "start_time": "2022-05-19T09:56:01.648Z"
   },
   {
    "duration": 21,
    "start_time": "2022-05-19T09:56:01.966Z"
   },
   {
    "duration": 11,
    "start_time": "2022-05-19T09:56:05.326Z"
   },
   {
    "duration": 11,
    "start_time": "2022-05-19T09:56:07.302Z"
   },
   {
    "duration": 5,
    "start_time": "2022-05-19T09:56:08.510Z"
   },
   {
    "duration": 6,
    "start_time": "2022-05-19T09:56:09.992Z"
   },
   {
    "duration": 5,
    "start_time": "2022-05-19T09:56:10.453Z"
   },
   {
    "duration": 442,
    "start_time": "2022-05-19T09:56:16.323Z"
   },
   {
    "duration": 164,
    "start_time": "2022-05-19T09:56:16.767Z"
   },
   {
    "duration": 16,
    "start_time": "2022-05-19T09:56:16.933Z"
   },
   {
    "duration": 30,
    "start_time": "2022-05-19T09:56:16.950Z"
   },
   {
    "duration": 32,
    "start_time": "2022-05-19T09:56:16.983Z"
   },
   {
    "duration": 8,
    "start_time": "2022-05-19T09:56:17.017Z"
   },
   {
    "duration": 13,
    "start_time": "2022-05-19T09:56:17.027Z"
   },
   {
    "duration": 8,
    "start_time": "2022-05-19T09:56:17.042Z"
   },
   {
    "duration": 27,
    "start_time": "2022-05-19T09:56:17.052Z"
   },
   {
    "duration": 37,
    "start_time": "2022-05-19T09:56:17.081Z"
   },
   {
    "duration": 20,
    "start_time": "2022-05-19T09:56:17.119Z"
   },
   {
    "duration": 84,
    "start_time": "2022-05-19T09:56:17.141Z"
   },
   {
    "duration": 87,
    "start_time": "2022-05-19T09:56:17.227Z"
   },
   {
    "duration": 65,
    "start_time": "2022-05-19T09:56:17.317Z"
   },
   {
    "duration": 52,
    "start_time": "2022-05-19T09:56:17.383Z"
   },
   {
    "duration": 3,
    "start_time": "2022-05-19T09:56:17.436Z"
   },
   {
    "duration": 19,
    "start_time": "2022-05-19T09:56:17.441Z"
   },
   {
    "duration": 57,
    "start_time": "2022-05-19T09:56:17.462Z"
   },
   {
    "duration": 12,
    "start_time": "2022-05-19T09:56:17.521Z"
   },
   {
    "duration": 12,
    "start_time": "2022-05-19T09:56:17.535Z"
   },
   {
    "duration": 4,
    "start_time": "2022-05-19T09:56:17.548Z"
   },
   {
    "duration": 24,
    "start_time": "2022-05-19T09:56:17.554Z"
   },
   {
    "duration": 50,
    "start_time": "2022-05-19T09:56:17.581Z"
   },
   {
    "duration": 15,
    "start_time": "2022-05-19T09:56:17.633Z"
   },
   {
    "duration": 15,
    "start_time": "2022-05-19T09:56:17.649Z"
   },
   {
    "duration": 15,
    "start_time": "2022-05-19T09:56:17.666Z"
   },
   {
    "duration": 38,
    "start_time": "2022-05-19T09:56:17.683Z"
   },
   {
    "duration": 8,
    "start_time": "2022-05-19T09:56:17.723Z"
   },
   {
    "duration": 23,
    "start_time": "2022-05-19T09:56:17.732Z"
   },
   {
    "duration": 17,
    "start_time": "2022-05-19T09:56:17.757Z"
   },
   {
    "duration": 4,
    "start_time": "2022-05-19T09:56:17.775Z"
   },
   {
    "duration": 3,
    "start_time": "2022-05-19T09:56:17.812Z"
   },
   {
    "duration": 21,
    "start_time": "2022-05-19T09:56:17.817Z"
   },
   {
    "duration": 10,
    "start_time": "2022-05-19T09:56:17.840Z"
   },
   {
    "duration": 15,
    "start_time": "2022-05-19T09:56:17.852Z"
   },
   {
    "duration": 11,
    "start_time": "2022-05-19T09:56:17.869Z"
   },
   {
    "duration": 38,
    "start_time": "2022-05-19T09:56:17.882Z"
   },
   {
    "duration": 5,
    "start_time": "2022-05-19T09:56:17.922Z"
   },
   {
    "duration": 10,
    "start_time": "2022-05-19T09:56:17.929Z"
   },
   {
    "duration": 4,
    "start_time": "2022-05-19T09:56:17.941Z"
   }
  ],
  "colab": {
   "collapsed_sections": [
    "E0vqbgi9ay0H",
    "VUC88oWjTJw2"
   ],
   "name": "yandex_music_project.ipynb",
   "provenance": []
  },
  "kernelspec": {
   "display_name": "Python 3 (ipykernel)",
   "language": "python",
   "name": "python3"
  },
  "language_info": {
   "codemirror_mode": {
    "name": "ipython",
    "version": 3
   },
   "file_extension": ".py",
   "mimetype": "text/x-python",
   "name": "python",
   "nbconvert_exporter": "python",
   "pygments_lexer": "ipython3",
   "version": "3.9.12"
  },
  "toc": {
   "base_numbering": 1,
   "nav_menu": {},
   "number_sections": true,
   "sideBar": true,
   "skip_h1_title": true,
   "title_cell": "Table of Contents",
   "title_sidebar": "Contents",
   "toc_cell": false,
   "toc_position": {
    "height": "calc(100% - 180px)",
    "left": "10px",
    "top": "150px",
    "width": "165px"
   },
   "toc_section_display": true,
   "toc_window_display": true
  }
 },
 "nbformat": 4,
 "nbformat_minor": 1
}
