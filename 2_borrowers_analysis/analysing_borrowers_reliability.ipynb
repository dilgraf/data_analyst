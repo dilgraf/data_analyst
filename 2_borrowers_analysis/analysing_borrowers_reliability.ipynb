{
 "cells": [
  {
   "cell_type": "markdown",
   "id": "e7fc6a50",
   "metadata": {},
   "source": [
    "# Analysis of borrowers reliabilty "
   ]
  },
  {
   "cell_type": "markdown",
   "id": "6fdbda49",
   "metadata": {},
   "source": [
    "**Study purpose:** To check if marital status and the number of children affect on returning loan on time."
   ]
  },
  {
   "cell_type": "markdown",
   "id": "847b418a",
   "metadata": {},
   "source": [
    "### Step 1. Data overview"
   ]
  },
  {
   "cell_type": "code",
   "execution_count": 1,
   "id": "2bf52281",
   "metadata": {},
   "outputs": [],
   "source": [
    "import pandas as pd\n",
    "import seaborn as sns"
   ]
  },
  {
   "cell_type": "code",
   "execution_count": null,
   "id": "c9c1fd4c",
   "metadata": {
    "scrolled": true
   },
   "outputs": [],
   "source": [
    "try:\n",
    "    data = pd.read_csv('data.csv')\n",
    "except:\n",
    "    data = pd.read_csv('/datasets/data.csv')\n",
    "\n",
    "display(data.head(20))"
   ]
  },
  {
   "cell_type": "code",
   "execution_count": 3,
   "id": "2f7f4762",
   "metadata": {
    "scrolled": true
   },
   "outputs": [
    {
     "name": "stdout",
     "output_type": "stream",
     "text": [
      "<class 'pandas.core.frame.DataFrame'>\n",
      "RangeIndex: 21525 entries, 0 to 21524\n",
      "Data columns (total 12 columns):\n",
      " #   Column            Non-Null Count  Dtype  \n",
      "---  ------            --------------  -----  \n",
      " 0   children          21525 non-null  int64  \n",
      " 1   days_employed     19351 non-null  float64\n",
      " 2   dob_years         21525 non-null  int64  \n",
      " 3   education         21525 non-null  object \n",
      " 4   education_id      21525 non-null  int64  \n",
      " 5   family_status     21525 non-null  object \n",
      " 6   family_status_id  21525 non-null  int64  \n",
      " 7   gender            21525 non-null  object \n",
      " 8   income_type       21525 non-null  object \n",
      " 9   debt              21525 non-null  int64  \n",
      " 10  total_income      19351 non-null  float64\n",
      " 11  purpose           21525 non-null  object \n",
      "dtypes: float64(2), int64(5), object(5)\n",
      "memory usage: 2.0+ MB\n"
     ]
    }
   ],
   "source": [
    "# information re data in the table\n",
    "data.info()"
   ]
  },
  {
   "cell_type": "code",
   "execution_count": null,
   "id": "6d8e296d",
   "metadata": {},
   "outputs": [],
   "source": [
    "data.describe()"
   ]
  },
  {
   "cell_type": "markdown",
   "id": "91406b90",
   "metadata": {},
   "source": [
    "Table contains 12 columns. Of which 4 are quantitative variables and 8 - categorial.\n",
    "Data has following problems:\n",
    "- missing values (in columns days_employed and total_income), \n",
    "- lowercase mixed with uppercase in one column, \n",
    "- anomalies in form of negative values in number of working years and number of kids"
   ]
  },
  {
   "cell_type": "markdown",
   "id": "9b3da76b",
   "metadata": {},
   "source": [
    "### Step 2.1 Missing data processing"
   ]
  },
  {
   "cell_type": "markdown",
   "id": "078a4ced",
   "metadata": {},
   "source": [
    "Proportion of missing values in columns days_employed and total_income:"
   ]
  },
  {
   "cell_type": "code",
   "execution_count": 5,
   "id": "67dbe4a4",
   "metadata": {},
   "outputs": [
    {
     "name": "stdout",
     "output_type": "stream",
     "text": [
      "Proportion of missing values in column days_employed: 0.10099883855981417\n",
      "Proportion of missing values in column total_income: 0.10099883855981417\n"
     ]
    }
   ],
   "source": [
    "print('Proportion of missing values in column days_employed:', data['days_employed'].isna().sum() / len(data['days_employed']))\n",
    "print('Proportion of missing values in column total_income:', data['total_income'].isna().sum() / len(data['days_employed']))"
   ]
  },
  {
   "cell_type": "code",
   "execution_count": 6,
   "id": "a3fbd335",
   "metadata": {},
   "outputs": [
    {
     "data": {
      "text/plain": [
       "<AxesSubplot:>"
      ]
     },
     "execution_count": 6,
     "metadata": {},
     "output_type": "execute_result"
    },
    {
     "data": {
      "image/png": "[encoded data removed]",
      "text/plain": [
       "<Figure size 432x288 with 1 Axes>"
      ]
     },
     "metadata": {
      "needs_background": "light"
     },
     "output_type": "display_data"
    }
   ],
   "source": [
    "sns.heatmap(data.isna(), yticklabels=False, cbar=False, cmap=\"YlGnBu\")"
   ]
  },
  {
   "cell_type": "markdown",
   "id": "4392a93b",
   "metadata": {},
   "source": [
    "Amount of missing values is the same for both columns. On the heatmap above we can see visual representation of which rows contain missing values. We can assume that on the time of application for loan, the client is not employed, therefore does not have any income and left the field empty."
   ]
  },
  {
   "cell_type": "markdown",
   "id": "f8b0abac",
   "metadata": {},
   "source": [
    "In the data sample there can be values that may drastically differ from the true mean value and, therefore, alter the calculations. It is prefered to replace blanks with median values."
   ]
  },
  {
   "cell_type": "code",
   "execution_count": 7,
   "id": "c4dbe3cd",
   "metadata": {},
   "outputs": [],
   "source": [
    "# Creation of list with unique types of income\n",
    "data_income_type = data['income_type'].unique()\n",
    "data_income_type = data_income_type.tolist()\n",
    "\n",
    "# Replacing blanks in total_income column with median value for the particular type of income\n",
    "for type in data_income_type:\n",
    "    income_median = data.loc[data['income_type'] == type, 'total_income'].median()\n",
    "    data.loc[data['income_type'] == type, 'total_income'] = data.loc[data['income_type'] == type, 'total_income'].fillna(income_median)\n"
   ]
  },
  {
   "cell_type": "code",
   "execution_count": null,
   "id": "765b0aee",
   "metadata": {},
   "outputs": [],
   "source": [
    "data.info()\n",
    "display(data.head(15))"
   ]
  },
  {
   "cell_type": "markdown",
   "id": "e807456b",
   "metadata": {},
   "source": [
    "### Step 2.2 Anomalies processing"
   ]
  },
  {
   "cell_type": "markdown",
   "id": "82188964",
   "metadata": {},
   "source": [
    "<b>Elimination of anomalies in days_employed column</b>"
   ]
  },
  {
   "cell_type": "markdown",
   "id": "955658cd",
   "metadata": {},
   "source": [
    "In the days_employed column negative values prevail. In the first 20 rows of the table we can notice that only pensioners have positive values as work experience."
   ]
  },
  {
   "cell_type": "code",
   "execution_count": 9,
   "id": "bc928131",
   "metadata": {},
   "outputs": [
    {
     "data": {
      "text/plain": [
       "income_type\n",
       "безработный        366413.652744\n",
       "в декрете           -3296.759962\n",
       "госслужащий         -2689.368353\n",
       "компаньон           -1547.382223\n",
       "пенсионер          365213.306266\n",
       "предприниматель      -520.848083\n",
       "сотрудник           -1574.202821\n",
       "студент              -578.751554\n",
       "Name: days_employed, dtype: float64"
      ]
     },
     "execution_count": 9,
     "metadata": {},
     "output_type": "execute_result"
    }
   ],
   "source": [
    "# Check for median values for work experience for each type of income\n",
    "data.groupby('income_type')['days_employed'].median()"
   ]
  },
  {
   "cell_type": "markdown",
   "id": "3481ec14",
   "metadata": {},
   "source": [
    "Only unemployed clients and pensioners have positive working experience."
   ]
  },
  {
   "cell_type": "code",
   "execution_count": null,
   "id": "2b07482e",
   "metadata": {
    "scrolled": true
   },
   "outputs": [],
   "source": [
    "# Replacing negative values with positive\n",
    "def correct_value(row):\n",
    "    days = row['days_employed']\n",
    "    source = row['income_type']\n",
    "    if days < 0: \n",
    "        return abs(days)\n",
    "    else:\n",
    "        return days\n",
    "\n",
    "data['days_employed'] = data.apply(correct_value, axis=1)\n",
    "display(data.head(20))"
   ]
  },
  {
   "cell_type": "code",
   "execution_count": 11,
   "id": "bcd38bcf",
   "metadata": {},
   "outputs": [],
   "source": [
    "# Filling in blanks with median in days_employed column\n",
    "days_drop_null = data[data['days_employed'].isna() == False]\n",
    "data['days_employed'] = data['days_employed'].fillna(days_drop_null['days_employed'].median())"
   ]
  },
  {
   "cell_type": "code",
   "execution_count": null,
   "id": "77cd0cdd",
   "metadata": {
    "scrolled": true
   },
   "outputs": [],
   "source": [
    "data.info()\n",
    "display(data.head(15))"
   ]
  },
  {
   "cell_type": "markdown",
   "id": "9214c1f5",
   "metadata": {},
   "source": [
    "<b>Elimination of anomalies in children column</b>"
   ]
  },
  {
   "cell_type": "code",
   "execution_count": 13,
   "id": "a6f61b48",
   "metadata": {},
   "outputs": [
    {
     "data": {
      "text/plain": [
       " 0     14149\n",
       " 1      4818\n",
       " 2      2055\n",
       " 3       330\n",
       " 20       76\n",
       "-1        47\n",
       " 4        41\n",
       " 5         9\n",
       "Name: children, dtype: int64"
      ]
     },
     "execution_count": 13,
     "metadata": {},
     "output_type": "execute_result"
    }
   ],
   "source": [
    "data['children'].value_counts()"
   ]
  },
  {
   "cell_type": "code",
   "execution_count": 14,
   "id": "0c6e5fa0",
   "metadata": {},
   "outputs": [
    {
     "data": {
      "text/plain": [
       "0     14149\n",
       "1      4865\n",
       "2      2055\n",
       "3       330\n",
       "20       76\n",
       "4        41\n",
       "5         9\n",
       "Name: children, dtype: int64"
      ]
     },
     "execution_count": 14,
     "metadata": {},
     "output_type": "execute_result"
    }
   ],
   "source": [
    "# Getting absolute value for negative amiunt of children\n",
    "data['children'] = abs(data['children'])\n",
    "data['children'].value_counts()"
   ]
  },
  {
   "cell_type": "code",
   "execution_count": 15,
   "id": "aeb948f6",
   "metadata": {},
   "outputs": [
    {
     "data": {
      "text/plain": [
       "0    14149\n",
       "1     4865\n",
       "2     2131\n",
       "3      330\n",
       "4       41\n",
       "5        9\n",
       "Name: children, dtype: int64"
      ]
     },
     "execution_count": 15,
     "metadata": {},
     "output_type": "execute_result"
    }
   ],
   "source": [
    "# Correcting typo: replacing 20 children with 2\n",
    "data.loc[data['children'] == 20, 'children'] = 2\n",
    "data['children'].value_counts()"
   ]
  },
  {
   "cell_type": "markdown",
   "id": "e3cdda2d",
   "metadata": {},
   "source": [
    "### Step 2.3. Correcting type of data"
   ]
  },
  {
   "cell_type": "code",
   "execution_count": null,
   "id": "ba70adad",
   "metadata": {},
   "outputs": [],
   "source": [
    "# Correcting type in days_employed column\n",
    "data['days_employed'] = data['days_employed'].astype('int')\n",
    "display(data.head())"
   ]
  },
  {
   "cell_type": "markdown",
   "id": "dd9f957c",
   "metadata": {},
   "source": [
    "### Step 2.4. Elimination of duplicates"
   ]
  },
  {
   "cell_type": "code",
   "execution_count": 17,
   "id": "7662bdf4",
   "metadata": {},
   "outputs": [
    {
     "name": "stdout",
     "output_type": "stream",
     "text": [
      "Number of duplicates: 71\n"
     ]
    }
   ],
   "source": [
    "data['education'] = data['education'].str.lower()\n",
    "print('Number of duplicates:', data[data.duplicated()]['days_employed'].count())"
   ]
  },
  {
   "cell_type": "code",
   "execution_count": null,
   "id": "fda251e1",
   "metadata": {},
   "outputs": [],
   "source": [
    "# Deleting duplicates\n",
    "data = data.drop_duplicates().reset_index(drop=True)\n",
    "data.info()"
   ]
  },
  {
   "cell_type": "code",
   "execution_count": 19,
   "id": "59fbcf74",
   "metadata": {},
   "outputs": [
    {
     "data": {
      "text/plain": [
       "F      14174\n",
       "M       7279\n",
       "XNA        1\n",
       "Name: gender, dtype: int64"
      ]
     },
     "execution_count": 19,
     "metadata": {},
     "output_type": "execute_result"
    }
   ],
   "source": [
    "# Checking for anomalies in gender column\n",
    "data['gender'].value_counts()"
   ]
  },
  {
   "cell_type": "code",
   "execution_count": null,
   "id": "acc52b25",
   "metadata": {},
   "outputs": [],
   "source": [
    "data[data['gender'] == 'XNA']"
   ]
  },
  {
   "cell_type": "markdown",
   "id": "04302700",
   "metadata": {},
   "source": [
    "Checking 'gender' column resulted in one anomaly, client forgot to mention their gender. Since we cannot process the error (cannot substitute it with any value), we should delete the record."
   ]
  },
  {
   "cell_type": "code",
   "execution_count": 21,
   "id": "14c2254f",
   "metadata": {},
   "outputs": [
    {
     "data": {
      "text/plain": [
       "F    14174\n",
       "M     7279\n",
       "Name: gender, dtype: int64"
      ]
     },
     "execution_count": 21,
     "metadata": {},
     "output_type": "execute_result"
    }
   ],
   "source": [
    "#Deleting the record with an empty value\n",
    "data = data[data['gender'] != 'XNA']\n",
    "data['gender'].value_counts()"
   ]
  },
  {
   "cell_type": "markdown",
   "id": "6f1b61d0",
   "metadata": {},
   "source": [
    "### Step 2.5. Creation of additional dataframes, decomposition of the initial dataframe."
   ]
  },
  {
   "cell_type": "markdown",
   "id": "15860f23",
   "metadata": {},
   "source": [
    "<b>Creation of dataframe education:</b>"
   ]
  },
  {
   "cell_type": "code",
   "execution_count": 22,
   "id": "4324a847",
   "metadata": {},
   "outputs": [
    {
     "data": {
      "text/html": [
       "<div>\n",
       "<style scoped>\n",
       "    .dataframe tbody tr th:only-of-type {\n",
       "        vertical-align: middle;\n",
       "    }\n",
       "\n",
       "    .dataframe tbody tr th {\n",
       "        vertical-align: top;\n",
       "    }\n",
       "\n",
       "    .dataframe thead th {\n",
       "        text-align: right;\n",
       "    }\n",
       "</style>\n",
       "<table border=\"1\" class=\"dataframe\">\n",
       "  <thead>\n",
       "    <tr style=\"text-align: right;\">\n",
       "      <th></th>\n",
       "      <th>education</th>\n",
       "      <th>education_id</th>\n",
       "    </tr>\n",
       "  </thead>\n",
       "  <tbody>\n",
       "    <tr>\n",
       "      <th>0</th>\n",
       "      <td>высшее</td>\n",
       "      <td>0</td>\n",
       "    </tr>\n",
       "    <tr>\n",
       "      <th>1</th>\n",
       "      <td>среднее</td>\n",
       "      <td>1</td>\n",
       "    </tr>\n",
       "    <tr>\n",
       "      <th>2</th>\n",
       "      <td>неоконченное высшее</td>\n",
       "      <td>2</td>\n",
       "    </tr>\n",
       "    <tr>\n",
       "      <th>3</th>\n",
       "      <td>начальное</td>\n",
       "      <td>3</td>\n",
       "    </tr>\n",
       "    <tr>\n",
       "      <th>4</th>\n",
       "      <td>ученая степень</td>\n",
       "      <td>4</td>\n",
       "    </tr>\n",
       "  </tbody>\n",
       "</table>\n",
       "</div>"
      ],
      "text/plain": [
       "             education  education_id\n",
       "0               высшее             0\n",
       "1              среднее             1\n",
       "2  неоконченное высшее             2\n",
       "3            начальное             3\n",
       "4       ученая степень             4"
      ]
     },
     "metadata": {},
     "output_type": "display_data"
    }
   ],
   "source": [
    "education = data[['education', 'education_id']].drop_duplicates().reset_index(drop=True)\n",
    "display(education)"
   ]
  },
  {
   "cell_type": "markdown",
   "id": "c80d6228",
   "metadata": {},
   "source": [
    "<b>Creation of dataframe family:</b>"
   ]
  },
  {
   "cell_type": "code",
   "execution_count": 23,
   "id": "48a336b8",
   "metadata": {},
   "outputs": [
    {
     "data": {
      "text/html": [
       "<div>\n",
       "<style scoped>\n",
       "    .dataframe tbody tr th:only-of-type {\n",
       "        vertical-align: middle;\n",
       "    }\n",
       "\n",
       "    .dataframe tbody tr th {\n",
       "        vertical-align: top;\n",
       "    }\n",
       "\n",
       "    .dataframe thead th {\n",
       "        text-align: right;\n",
       "    }\n",
       "</style>\n",
       "<table border=\"1\" class=\"dataframe\">\n",
       "  <thead>\n",
       "    <tr style=\"text-align: right;\">\n",
       "      <th></th>\n",
       "      <th>family_status</th>\n",
       "      <th>family_status_id</th>\n",
       "    </tr>\n",
       "  </thead>\n",
       "  <tbody>\n",
       "    <tr>\n",
       "      <th>0</th>\n",
       "      <td>женат / замужем</td>\n",
       "      <td>0</td>\n",
       "    </tr>\n",
       "    <tr>\n",
       "      <th>1</th>\n",
       "      <td>гражданский брак</td>\n",
       "      <td>1</td>\n",
       "    </tr>\n",
       "    <tr>\n",
       "      <th>2</th>\n",
       "      <td>вдовец / вдова</td>\n",
       "      <td>2</td>\n",
       "    </tr>\n",
       "    <tr>\n",
       "      <th>3</th>\n",
       "      <td>в разводе</td>\n",
       "      <td>3</td>\n",
       "    </tr>\n",
       "    <tr>\n",
       "      <th>4</th>\n",
       "      <td>Не женат / не замужем</td>\n",
       "      <td>4</td>\n",
       "    </tr>\n",
       "  </tbody>\n",
       "</table>\n",
       "</div>"
      ],
      "text/plain": [
       "           family_status  family_status_id\n",
       "0        женат / замужем                 0\n",
       "1       гражданский брак                 1\n",
       "2         вдовец / вдова                 2\n",
       "3              в разводе                 3\n",
       "4  Не женат / не замужем                 4"
      ]
     },
     "metadata": {},
     "output_type": "display_data"
    }
   ],
   "source": [
    "family = data[['family_status', 'family_status_id']].drop_duplicates().reset_index(drop=True)\n",
    "display(family)"
   ]
  },
  {
   "cell_type": "code",
   "execution_count": null,
   "id": "8d7afa77",
   "metadata": {},
   "outputs": [],
   "source": [
    "# Deleting columns 'education' and 'family_status' from the initial dataframe\n",
    "\n",
    "data = data.drop('education', axis=1)\n",
    "data = data.drop('family_status', axis=1)\n",
    "display(data.head())"
   ]
  },
  {
   "cell_type": "markdown",
   "id": "ec8d9053",
   "metadata": {},
   "source": [
    "### Step 2.6. Income categorisation."
   ]
  },
  {
   "cell_type": "markdown",
   "id": "aa301fbd",
   "metadata": {},
   "source": [
    "Adding a column with categories for clients based on their income:"
   ]
  },
  {
   "cell_type": "code",
   "execution_count": 25,
   "id": "c05cb602",
   "metadata": {},
   "outputs": [
    {
     "data": {
      "text/plain": [
       "C    16015\n",
       "B     5041\n",
       "D      350\n",
       "A       25\n",
       "E       22\n",
       "Name: total_income_category, dtype: int64"
      ]
     },
     "metadata": {},
     "output_type": "display_data"
    }
   ],
   "source": [
    "def total_income_count(row):\n",
    "    income = row['total_income']\n",
    "    if 0 <= income <= 30000:\n",
    "        return 'E'\n",
    "    if 30001 <= income <= 50000:\n",
    "        return 'D'\n",
    "    if 50001 <= income <= 200000:\n",
    "        return 'C'\n",
    "    if 200001 <= income <= 1000000:\n",
    "        return 'B'\n",
    "    if income >= 1000001:\n",
    "        return 'A'\n",
    "\n",
    "data['total_income_category'] = data.apply(total_income_count, axis=1)\n",
    "display(data['total_income_category'].value_counts())"
   ]
  },
  {
   "cell_type": "markdown",
   "id": "3e249532",
   "metadata": {},
   "source": [
    "### Step 2.7. Purpose of loan categorisation."
   ]
  },
  {
   "cell_type": "markdown",
   "id": "61dd0091",
   "metadata": {},
   "source": [
    "Adding a column with categories for clients based on their purpose for loan:"
   ]
  },
  {
   "cell_type": "code",
   "execution_count": null,
   "id": "83fab1cd",
   "metadata": {},
   "outputs": [],
   "source": [
    "def purpose_categorize(row):\n",
    "    purpose = row['purpose']\n",
    "    if 'автомобил' in purpose:\n",
    "        return 'operation with a car'\n",
    "    if 'образовани' in purpose:\n",
    "        return 'for education'\n",
    "    if 'жиль' in purpose or 'недвижимост' in purpose:\n",
    "        return 'operation with a property'\n",
    "    elif 'свадьб' in purpose:\n",
    "        return 'for a wedding'\n",
    "\n",
    "data['purpose_category'] = data.apply(purpose_categorize, axis=1)\n",
    "display(data.head(10))\n",
    "data['purpose_category'].value_counts()"
   ]
  },
  {
   "cell_type": "markdown",
   "id": "c26dfbbd",
   "metadata": {},
   "source": [
    "<b>Is there a correlation between number of children and returning a loan on time?</b>"
   ]
  },
  {
   "cell_type": "code",
   "execution_count": 27,
   "id": "82dd628a",
   "metadata": {},
   "outputs": [
    {
     "data": {
      "text/html": [
       "<style type=\"text/css\">\n",
       "</style>\n",
       "<table id=\"T_df1ea\">\n",
       "  <thead>\n",
       "    <tr>\n",
       "      <th class=\"blank level0\" >&nbsp;</th>\n",
       "      <th id=\"T_df1ea_level0_col0\" class=\"col_heading level0 col0\" >Amount of clients</th>\n",
       "      <th id=\"T_df1ea_level0_col1\" class=\"col_heading level0 col1\" >Amount of debtors</th>\n",
       "      <th id=\"T_df1ea_level0_col2\" class=\"col_heading level0 col2\" >% of debtors</th>\n",
       "      <th id=\"T_df1ea_level0_col3\" class=\"col_heading level0 col3\" >% of non-debtors</th>\n",
       "    </tr>\n",
       "    <tr>\n",
       "      <th class=\"index_name level0\" >children</th>\n",
       "      <th class=\"blank col0\" >&nbsp;</th>\n",
       "      <th class=\"blank col1\" >&nbsp;</th>\n",
       "      <th class=\"blank col2\" >&nbsp;</th>\n",
       "      <th class=\"blank col3\" >&nbsp;</th>\n",
       "    </tr>\n",
       "  </thead>\n",
       "  <tbody>\n",
       "    <tr>\n",
       "      <th id=\"T_df1ea_level0_row0\" class=\"row_heading level0 row0\" >0</th>\n",
       "      <td id=\"T_df1ea_row0_col0\" class=\"data row0 col0\" >14090</td>\n",
       "      <td id=\"T_df1ea_row0_col1\" class=\"data row0 col1\" >1063</td>\n",
       "      <td id=\"T_df1ea_row0_col2\" class=\"data row0 col2\" >7.54%</td>\n",
       "      <td id=\"T_df1ea_row0_col3\" class=\"data row0 col3\" >92.46%</td>\n",
       "    </tr>\n",
       "    <tr>\n",
       "      <th id=\"T_df1ea_level0_row1\" class=\"row_heading level0 row1\" >1</th>\n",
       "      <td id=\"T_df1ea_row1_col0\" class=\"data row1 col0\" >4855</td>\n",
       "      <td id=\"T_df1ea_row1_col1\" class=\"data row1 col1\" >445</td>\n",
       "      <td id=\"T_df1ea_row1_col2\" class=\"data row1 col2\" >9.17%</td>\n",
       "      <td id=\"T_df1ea_row1_col3\" class=\"data row1 col3\" >90.83%</td>\n",
       "    </tr>\n",
       "    <tr>\n",
       "      <th id=\"T_df1ea_level0_row2\" class=\"row_heading level0 row2\" >2</th>\n",
       "      <td id=\"T_df1ea_row2_col0\" class=\"data row2 col0\" >2128</td>\n",
       "      <td id=\"T_df1ea_row2_col1\" class=\"data row2 col1\" >202</td>\n",
       "      <td id=\"T_df1ea_row2_col2\" class=\"data row2 col2\" >9.49%</td>\n",
       "      <td id=\"T_df1ea_row2_col3\" class=\"data row2 col3\" >90.51%</td>\n",
       "    </tr>\n",
       "    <tr>\n",
       "      <th id=\"T_df1ea_level0_row3\" class=\"row_heading level0 row3\" >3</th>\n",
       "      <td id=\"T_df1ea_row3_col0\" class=\"data row3 col0\" >330</td>\n",
       "      <td id=\"T_df1ea_row3_col1\" class=\"data row3 col1\" >27</td>\n",
       "      <td id=\"T_df1ea_row3_col2\" class=\"data row3 col2\" >8.18%</td>\n",
       "      <td id=\"T_df1ea_row3_col3\" class=\"data row3 col3\" >91.82%</td>\n",
       "    </tr>\n",
       "    <tr>\n",
       "      <th id=\"T_df1ea_level0_row4\" class=\"row_heading level0 row4\" >4</th>\n",
       "      <td id=\"T_df1ea_row4_col0\" class=\"data row4 col0\" >41</td>\n",
       "      <td id=\"T_df1ea_row4_col1\" class=\"data row4 col1\" >4</td>\n",
       "      <td id=\"T_df1ea_row4_col2\" class=\"data row4 col2\" >9.76%</td>\n",
       "      <td id=\"T_df1ea_row4_col3\" class=\"data row4 col3\" >90.24%</td>\n",
       "    </tr>\n",
       "    <tr>\n",
       "      <th id=\"T_df1ea_level0_row5\" class=\"row_heading level0 row5\" >5</th>\n",
       "      <td id=\"T_df1ea_row5_col0\" class=\"data row5 col0\" >9</td>\n",
       "      <td id=\"T_df1ea_row5_col1\" class=\"data row5 col1\" >0</td>\n",
       "      <td id=\"T_df1ea_row5_col2\" class=\"data row5 col2\" >0.00%</td>\n",
       "      <td id=\"T_df1ea_row5_col3\" class=\"data row5 col3\" >100.00%</td>\n",
       "    </tr>\n",
       "  </tbody>\n",
       "</table>\n"
      ],
      "text/plain": [
       "<pandas.io.formats.style.Styler at 0x7fc2c85424c0>"
      ]
     },
     "execution_count": 27,
     "metadata": {},
     "output_type": "execute_result"
    }
   ],
   "source": [
    "df_children = data.pivot_table(index = 'children', values = 'debt', \n",
    "                            aggfunc = ['count', 'sum', 'mean', lambda x: 1 - x.mean()])\n",
    "df_children.columns = ['Amount of clients', 'Amount of debtors', '% of debtors', '% of non-debtors']\n",
    "df_children.style.format({'% of debtors': '{:.2%}', '% of non-debtors': '{:.2%}'})"
   ]
  },
  {
   "cell_type": "markdown",
   "id": "c6234901",
   "metadata": {},
   "source": [
    "There is no direct correlation between number of children and returning loan on time. All of the clients with 5 children payed back on time.\n",
    "On the second place there are clients with no kids.\n",
    "We cannot be sure that the more children client has, the more the probability of returning the loan on time and vice versa."
   ]
  },
  {
   "cell_type": "markdown",
   "id": "7e9195eb",
   "metadata": {},
   "source": [
    "<b>Is there a correlation between family status and returning a loan on time?</b>"
   ]
  },
  {
   "cell_type": "code",
   "execution_count": 28,
   "id": "aeef280b",
   "metadata": {},
   "outputs": [
    {
     "data": {
      "text/html": [
       "<style type=\"text/css\">\n",
       "</style>\n",
       "<table id=\"T_3aa73\">\n",
       "  <thead>\n",
       "    <tr>\n",
       "      <th class=\"blank level0\" >&nbsp;</th>\n",
       "      <th id=\"T_3aa73_level0_col0\" class=\"col_heading level0 col0\" >family_status_id</th>\n",
       "      <th id=\"T_3aa73_level0_col1\" class=\"col_heading level0 col1\" >Number of clients</th>\n",
       "      <th id=\"T_3aa73_level0_col2\" class=\"col_heading level0 col2\" >Amount of debtors</th>\n",
       "      <th id=\"T_3aa73_level0_col3\" class=\"col_heading level0 col3\" >% of debtors</th>\n",
       "      <th id=\"T_3aa73_level0_col4\" class=\"col_heading level0 col4\" >% of non-debtors</th>\n",
       "      <th id=\"T_3aa73_level0_col5\" class=\"col_heading level0 col5\" >Family status</th>\n",
       "    </tr>\n",
       "  </thead>\n",
       "  <tbody>\n",
       "    <tr>\n",
       "      <th id=\"T_3aa73_level0_row0\" class=\"row_heading level0 row0\" >0</th>\n",
       "      <td id=\"T_3aa73_row0_col0\" class=\"data row0 col0\" >0</td>\n",
       "      <td id=\"T_3aa73_row0_col1\" class=\"data row0 col1\" >12339</td>\n",
       "      <td id=\"T_3aa73_row0_col2\" class=\"data row0 col2\" >931</td>\n",
       "      <td id=\"T_3aa73_row0_col3\" class=\"data row0 col3\" >7.55%</td>\n",
       "      <td id=\"T_3aa73_row0_col4\" class=\"data row0 col4\" >92.45%</td>\n",
       "      <td id=\"T_3aa73_row0_col5\" class=\"data row0 col5\" >женат / замужем</td>\n",
       "    </tr>\n",
       "    <tr>\n",
       "      <th id=\"T_3aa73_level0_row1\" class=\"row_heading level0 row1\" >1</th>\n",
       "      <td id=\"T_3aa73_row1_col0\" class=\"data row1 col0\" >1</td>\n",
       "      <td id=\"T_3aa73_row1_col1\" class=\"data row1 col1\" >4150</td>\n",
       "      <td id=\"T_3aa73_row1_col2\" class=\"data row1 col2\" >388</td>\n",
       "      <td id=\"T_3aa73_row1_col3\" class=\"data row1 col3\" >9.35%</td>\n",
       "      <td id=\"T_3aa73_row1_col4\" class=\"data row1 col4\" >90.65%</td>\n",
       "      <td id=\"T_3aa73_row1_col5\" class=\"data row1 col5\" >гражданский брак</td>\n",
       "    </tr>\n",
       "    <tr>\n",
       "      <th id=\"T_3aa73_level0_row2\" class=\"row_heading level0 row2\" >2</th>\n",
       "      <td id=\"T_3aa73_row2_col0\" class=\"data row2 col0\" >2</td>\n",
       "      <td id=\"T_3aa73_row2_col1\" class=\"data row2 col1\" >959</td>\n",
       "      <td id=\"T_3aa73_row2_col2\" class=\"data row2 col2\" >63</td>\n",
       "      <td id=\"T_3aa73_row2_col3\" class=\"data row2 col3\" >6.57%</td>\n",
       "      <td id=\"T_3aa73_row2_col4\" class=\"data row2 col4\" >93.43%</td>\n",
       "      <td id=\"T_3aa73_row2_col5\" class=\"data row2 col5\" >вдовец / вдова</td>\n",
       "    </tr>\n",
       "    <tr>\n",
       "      <th id=\"T_3aa73_level0_row3\" class=\"row_heading level0 row3\" >3</th>\n",
       "      <td id=\"T_3aa73_row3_col0\" class=\"data row3 col0\" >3</td>\n",
       "      <td id=\"T_3aa73_row3_col1\" class=\"data row3 col1\" >1195</td>\n",
       "      <td id=\"T_3aa73_row3_col2\" class=\"data row3 col2\" >85</td>\n",
       "      <td id=\"T_3aa73_row3_col3\" class=\"data row3 col3\" >7.11%</td>\n",
       "      <td id=\"T_3aa73_row3_col4\" class=\"data row3 col4\" >92.89%</td>\n",
       "      <td id=\"T_3aa73_row3_col5\" class=\"data row3 col5\" >в разводе</td>\n",
       "    </tr>\n",
       "    <tr>\n",
       "      <th id=\"T_3aa73_level0_row4\" class=\"row_heading level0 row4\" >4</th>\n",
       "      <td id=\"T_3aa73_row4_col0\" class=\"data row4 col0\" >4</td>\n",
       "      <td id=\"T_3aa73_row4_col1\" class=\"data row4 col1\" >2810</td>\n",
       "      <td id=\"T_3aa73_row4_col2\" class=\"data row4 col2\" >274</td>\n",
       "      <td id=\"T_3aa73_row4_col3\" class=\"data row4 col3\" >9.75%</td>\n",
       "      <td id=\"T_3aa73_row4_col4\" class=\"data row4 col4\" >90.25%</td>\n",
       "      <td id=\"T_3aa73_row4_col5\" class=\"data row4 col5\" >Не женат / не замужем</td>\n",
       "    </tr>\n",
       "  </tbody>\n",
       "</table>\n"
      ],
      "text/plain": [
       "<pandas.io.formats.style.Styler at 0x7fc2c87af970>"
      ]
     },
     "execution_count": 28,
     "metadata": {},
     "output_type": "execute_result"
    }
   ],
   "source": [
    "family_depend = data.pivot_table(index='family_status_id', values='debt', aggfunc=['count', 'sum', 'mean', lambda x: 1 - x.mean()])\n",
    "family_depend.columns = family_depend.columns.droplevel(1)\n",
    "\n",
    "family_depend = family_depend.merge(family, on='family_status_id', how='left').reset_index(drop=True)\n",
    "\n",
    "family_depend.columns = ['family_status_id', 'Number of clients', 'Amount of debtors', '% of debtors', '% of non-debtors', 'Family status']\n",
    "family_depend.style.format({'% of debtors': '{:.2%}', '% of non-debtors': '{:.2%}'})\n"
   ]
  },
  {
   "cell_type": "markdown",
   "id": "74947ab3",
   "metadata": {},
   "source": [
    "Most of the time single clients and clients with a partner, but non-married return loans with a delay. Only 6.6% of widowers/widows payed back with a delay."
   ]
  },
  {
   "cell_type": "markdown",
   "id": "261de56a",
   "metadata": {},
   "source": [
    "<b>Is there a correlation between income category and returning a loan on time?</b>"
   ]
  },
  {
   "cell_type": "code",
   "execution_count": 29,
   "id": "85c69c85",
   "metadata": {},
   "outputs": [
    {
     "data": {
      "text/html": [
       "<style type=\"text/css\">\n",
       "</style>\n",
       "<table id=\"T_b7f32\">\n",
       "  <thead>\n",
       "    <tr>\n",
       "      <th class=\"blank level0\" >&nbsp;</th>\n",
       "      <th id=\"T_b7f32_level0_col0\" class=\"col_heading level0 col0\" >Amount of clients</th>\n",
       "      <th id=\"T_b7f32_level0_col1\" class=\"col_heading level0 col1\" >Amount of debtors</th>\n",
       "      <th id=\"T_b7f32_level0_col2\" class=\"col_heading level0 col2\" >% of debtors</th>\n",
       "      <th id=\"T_b7f32_level0_col3\" class=\"col_heading level0 col3\" >% of non-debtors</th>\n",
       "    </tr>\n",
       "    <tr>\n",
       "      <th class=\"index_name level0\" >total_income_category</th>\n",
       "      <th class=\"blank col0\" >&nbsp;</th>\n",
       "      <th class=\"blank col1\" >&nbsp;</th>\n",
       "      <th class=\"blank col2\" >&nbsp;</th>\n",
       "      <th class=\"blank col3\" >&nbsp;</th>\n",
       "    </tr>\n",
       "  </thead>\n",
       "  <tbody>\n",
       "    <tr>\n",
       "      <th id=\"T_b7f32_level0_row0\" class=\"row_heading level0 row0\" >A</th>\n",
       "      <td id=\"T_b7f32_row0_col0\" class=\"data row0 col0\" >25</td>\n",
       "      <td id=\"T_b7f32_row0_col1\" class=\"data row0 col1\" >2</td>\n",
       "      <td id=\"T_b7f32_row0_col2\" class=\"data row0 col2\" >8.00%</td>\n",
       "      <td id=\"T_b7f32_row0_col3\" class=\"data row0 col3\" >92.00%</td>\n",
       "    </tr>\n",
       "    <tr>\n",
       "      <th id=\"T_b7f32_level0_row1\" class=\"row_heading level0 row1\" >B</th>\n",
       "      <td id=\"T_b7f32_row1_col0\" class=\"data row1 col0\" >5041</td>\n",
       "      <td id=\"T_b7f32_row1_col1\" class=\"data row1 col1\" >356</td>\n",
       "      <td id=\"T_b7f32_row1_col2\" class=\"data row1 col2\" >7.06%</td>\n",
       "      <td id=\"T_b7f32_row1_col3\" class=\"data row1 col3\" >92.94%</td>\n",
       "    </tr>\n",
       "    <tr>\n",
       "      <th id=\"T_b7f32_level0_row2\" class=\"row_heading level0 row2\" >C</th>\n",
       "      <td id=\"T_b7f32_row2_col0\" class=\"data row2 col0\" >16015</td>\n",
       "      <td id=\"T_b7f32_row2_col1\" class=\"data row2 col1\" >1360</td>\n",
       "      <td id=\"T_b7f32_row2_col2\" class=\"data row2 col2\" >8.49%</td>\n",
       "      <td id=\"T_b7f32_row2_col3\" class=\"data row2 col3\" >91.51%</td>\n",
       "    </tr>\n",
       "    <tr>\n",
       "      <th id=\"T_b7f32_level0_row3\" class=\"row_heading level0 row3\" >D</th>\n",
       "      <td id=\"T_b7f32_row3_col0\" class=\"data row3 col0\" >350</td>\n",
       "      <td id=\"T_b7f32_row3_col1\" class=\"data row3 col1\" >21</td>\n",
       "      <td id=\"T_b7f32_row3_col2\" class=\"data row3 col2\" >6.00%</td>\n",
       "      <td id=\"T_b7f32_row3_col3\" class=\"data row3 col3\" >94.00%</td>\n",
       "    </tr>\n",
       "    <tr>\n",
       "      <th id=\"T_b7f32_level0_row4\" class=\"row_heading level0 row4\" >E</th>\n",
       "      <td id=\"T_b7f32_row4_col0\" class=\"data row4 col0\" >22</td>\n",
       "      <td id=\"T_b7f32_row4_col1\" class=\"data row4 col1\" >2</td>\n",
       "      <td id=\"T_b7f32_row4_col2\" class=\"data row4 col2\" >9.09%</td>\n",
       "      <td id=\"T_b7f32_row4_col3\" class=\"data row4 col3\" >90.91%</td>\n",
       "    </tr>\n",
       "  </tbody>\n",
       "</table>\n"
      ],
      "text/plain": [
       "<pandas.io.formats.style.Styler at 0x7fc2c4a52c10>"
      ]
     },
     "execution_count": 29,
     "metadata": {},
     "output_type": "execute_result"
    }
   ],
   "source": [
    "income_depend = data.pivot_table(index = 'total_income_category', values = 'debt', \n",
    "                            aggfunc = ['count', 'sum', 'mean', lambda x: 1 - x.mean()])\n",
    "income_depend.columns = ['Amount of clients', 'Amount of debtors', '% of debtors', '% of non-debtors']\n",
    "income_depend.style.format({'% of debtors': '{:.2%}', '% of non-debtors': '{:.2%}'})"
   ]
  },
  {
   "cell_type": "markdown",
   "id": "6ade8d87",
   "metadata": {},
   "source": [
    "94% of clients from the income category D (income ranges between 30k and 50k) payed back in a timely manner. 9% of clients from the income category E (income below 30k) payed back with a delay.\n",
    "There is no visible conclusion that the more the income, the better the repayment rate."
   ]
  },
  {
   "cell_type": "markdown",
   "id": "2134742d",
   "metadata": {},
   "source": [
    "<b>How the repayment on time depends on the purpose of loan?</b>"
   ]
  },
  {
   "cell_type": "code",
   "execution_count": 30,
   "id": "6ad2d701",
   "metadata": {},
   "outputs": [
    {
     "data": {
      "text/html": [
       "<div>\n",
       "<style scoped>\n",
       "    .dataframe tbody tr th:only-of-type {\n",
       "        vertical-align: middle;\n",
       "    }\n",
       "\n",
       "    .dataframe tbody tr th {\n",
       "        vertical-align: top;\n",
       "    }\n",
       "\n",
       "    .dataframe thead tr th {\n",
       "        text-align: left;\n",
       "    }\n",
       "\n",
       "    .dataframe thead tr:last-of-type th {\n",
       "        text-align: right;\n",
       "    }\n",
       "</style>\n",
       "<table border=\"1\" class=\"dataframe\">\n",
       "  <thead>\n",
       "    <tr>\n",
       "      <th></th>\n",
       "      <th>count</th>\n",
       "      <th>mean</th>\n",
       "    </tr>\n",
       "    <tr>\n",
       "      <th></th>\n",
       "      <th>debt</th>\n",
       "      <th>debt</th>\n",
       "    </tr>\n",
       "    <tr>\n",
       "      <th>purpose_category</th>\n",
       "      <th></th>\n",
       "      <th></th>\n",
       "    </tr>\n",
       "  </thead>\n",
       "  <tbody>\n",
       "    <tr>\n",
       "      <th>for a wedding</th>\n",
       "      <td>2324</td>\n",
       "      <td>0.080034</td>\n",
       "    </tr>\n",
       "    <tr>\n",
       "      <th>for education</th>\n",
       "      <td>4013</td>\n",
       "      <td>0.092200</td>\n",
       "    </tr>\n",
       "    <tr>\n",
       "      <th>operation with a car</th>\n",
       "      <td>4306</td>\n",
       "      <td>0.093590</td>\n",
       "    </tr>\n",
       "    <tr>\n",
       "      <th>operation with a property</th>\n",
       "      <td>10810</td>\n",
       "      <td>0.072340</td>\n",
       "    </tr>\n",
       "  </tbody>\n",
       "</table>\n",
       "</div>"
      ],
      "text/plain": [
       "                           count      mean\n",
       "                            debt      debt\n",
       "purpose_category                          \n",
       "for a wedding               2324  0.080034\n",
       "for education               4013  0.092200\n",
       "operation with a car        4306  0.093590\n",
       "operation with a property  10810  0.072340"
      ]
     },
     "execution_count": 30,
     "metadata": {},
     "output_type": "execute_result"
    }
   ],
   "source": [
    "purpose_depend = data.pivot_table(index='purpose_category', values='debt', aggfunc=['count', 'mean'])\n",
    "purpose_depend"
   ]
  },
  {
   "cell_type": "markdown",
   "id": "c4a1d71d",
   "metadata": {},
   "source": [
    "The majority of loans were initialised with a purpose of 'operations with a property' and this category has the most successful repayment rate. \n",
    "Number of loans with a purpose of 'education' or 'operations with a car' is almost the same, so is the number of clients that payed back on time, around 90%."
   ]
  },
  {
   "cell_type": "markdown",
   "id": "3f0194d3",
   "metadata": {},
   "source": [
    "## Conclusion:"
   ]
  },
  {
   "cell_type": "markdown",
   "id": "14082215",
   "metadata": {},
   "source": [
    "Data was preprocessed: \n",
    "* empty values in 'income' were filled with medians based on the income source, \n",
    "* empty values in 'days_employed' were filled with medians,\n",
    "* negative values in 'days_employed' were corrected,\n",
    "* duplicates were removed,\n",
    "* anomalies in the number of children were corrected.\n",
    "\n",
    "Clients were also categorised based on their income and purpose for loan.\n",
    "\n",
    "The analysis showed us that female clients applied for a loan two times more often than male clients. Main client group were clients with income category 'C' (income range is between 50k and 200k). The majority of loans were registered with a purpose of operation with a property.\n",
    "\n",
    "There was no direct correlation between the number of children / family status / income and client's reliability. However, there is a possible dependency on a purpose, big loans and important purposes (purchase of a property) have more success in repayment on time."
   ]
  },
  {
   "cell_type": "code",
   "execution_count": null,
   "id": "80808644",
   "metadata": {},
   "outputs": [],
   "source": []
  }
 ],
 "metadata": {
  "ExecuteTimeLog": [
   {
    "duration": 553,
    "start_time": "2022-05-31T15:27:40.819Z"
   },
   {
    "duration": 15,
    "start_time": "2022-05-31T15:27:41.374Z"
   },
   {
    "duration": 4,
    "start_time": "2022-05-31T15:27:41.391Z"
   },
   {
    "duration": 13,
    "start_time": "2022-05-31T15:27:41.397Z"
   },
   {
    "duration": 26,
    "start_time": "2022-05-31T15:27:41.413Z"
   },
   {
    "duration": 7,
    "start_time": "2022-05-31T15:27:41.441Z"
   },
   {
    "duration": 234,
    "start_time": "2022-05-31T15:27:41.450Z"
   },
   {
    "duration": 6,
    "start_time": "2022-05-31T15:27:41.685Z"
   },
   {
    "duration": 24,
    "start_time": "2022-05-31T15:27:41.693Z"
   },
   {
    "duration": 5,
    "start_time": "2022-05-31T15:27:41.718Z"
   },
   {
    "duration": 8,
    "start_time": "2022-05-31T15:27:41.724Z"
   },
   {
    "duration": 10,
    "start_time": "2022-05-31T15:27:41.734Z"
   },
   {
    "duration": 13,
    "start_time": "2022-05-31T15:27:41.781Z"
   },
   {
    "duration": 47,
    "start_time": "2022-05-31T15:27:41.797Z"
   },
   {
    "duration": 43,
    "start_time": "2022-05-31T15:27:41.845Z"
   },
   {
    "duration": 6,
    "start_time": "2022-05-31T15:27:41.890Z"
   },
   {
    "duration": 15,
    "start_time": "2022-05-31T15:27:41.898Z"
   },
   {
    "duration": 11,
    "start_time": "2022-05-31T15:27:41.915Z"
   },
   {
    "duration": 11,
    "start_time": "2022-05-31T15:27:41.927Z"
   },
   {
    "duration": 45,
    "start_time": "2022-05-31T15:27:41.939Z"
   },
   {
    "duration": 15,
    "start_time": "2022-05-31T15:27:41.986Z"
   },
   {
    "duration": 166,
    "start_time": "2022-05-31T15:27:42.003Z"
   },
   {
    "duration": 226,
    "start_time": "2022-05-31T15:27:42.171Z"
   },
   {
    "duration": 25,
    "start_time": "2022-05-31T15:27:42.399Z"
   },
   {
    "duration": 34,
    "start_time": "2022-05-31T15:27:42.425Z"
   },
   {
    "duration": 40,
    "start_time": "2022-05-31T15:27:42.461Z"
   },
   {
    "duration": 32,
    "start_time": "2022-05-31T15:27:42.504Z"
   },
   {
    "duration": 91,
    "start_time": "2022-05-31T15:39:12.828Z"
   },
   {
    "duration": 823,
    "start_time": "2022-05-31T15:39:19.489Z"
   },
   {
    "duration": 17,
    "start_time": "2022-05-31T15:40:03.581Z"
   },
   {
    "duration": 13,
    "start_time": "2022-05-31T15:40:11.480Z"
   },
   {
    "duration": 23,
    "start_time": "2022-05-31T15:40:16.873Z"
   },
   {
    "duration": 7,
    "start_time": "2022-05-31T15:40:47.080Z"
   },
   {
    "duration": 6,
    "start_time": "2022-05-31T15:40:59.612Z"
   },
   {
    "duration": 9,
    "start_time": "2022-05-31T15:41:08.483Z"
   },
   {
    "duration": 16,
    "start_time": "2022-05-31T15:41:30.079Z"
   },
   {
    "duration": 9,
    "start_time": "2022-05-31T15:41:51.743Z"
   },
   {
    "duration": 9,
    "start_time": "2022-05-31T15:42:23.408Z"
   },
   {
    "duration": 9,
    "start_time": "2022-05-31T15:44:37.300Z"
   },
   {
    "duration": 16,
    "start_time": "2022-05-31T15:51:18.920Z"
   }
  ],
  "kernelspec": {
   "display_name": "Python 3 (ipykernel)",
   "language": "python",
   "name": "python3"
  },
  "language_info": {
   "codemirror_mode": {
    "name": "ipython",
    "version": 3
   },
   "file_extension": ".py",
   "mimetype": "text/x-python",
   "name": "python",
   "nbconvert_exporter": "python",
   "pygments_lexer": "ipython3",
   "version": "3.9.12"
  },
  "toc": {
   "base_numbering": 1,
   "nav_menu": {},
   "number_sections": true,
   "sideBar": true,
   "skip_h1_title": true,
   "title_cell": "Table of Contents",
   "title_sidebar": "Contents",
   "toc_cell": false,
   "toc_position": {},
   "toc_section_display": true,
   "toc_window_display": false
  }
 },
 "nbformat": 4,
 "nbformat_minor": 5
}
